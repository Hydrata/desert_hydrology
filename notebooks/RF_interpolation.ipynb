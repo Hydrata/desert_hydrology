{
  "nbformat": 4,
  "nbformat_minor": 0,
  "metadata": {
    "colab": {
      "provenance": []
    },
    "kernelspec": {
      "name": "python3",
      "display_name": "Python 3"
    },
    "language_info": {
      "name": "python"
    }
  },
  "cells": [
    {
      "cell_type": "code",
      "source": [
        "!apt-get install grass"
      ],
      "metadata": {
        "colab": {
          "base_uri": "https://localhost:8080/"
        },
        "collapsed": true,
        "id": "S7EKTPpf2gq8",
        "outputId": "d92e0574-3532-41a7-9e0e-5ad3e63b3305"
      },
      "execution_count": 2,
      "outputs": [
        {
          "output_type": "stream",
          "name": "stdout",
          "text": [
            "Reading package lists... Done\n",
            "Building dependency tree... Done\n",
            "Reading state information... Done\n",
            "The following additional packages will be installed:\n",
            "  fonts-dejavu-core fonts-droid-fallback fonts-lyx fonts-noto-mono fonts-urw-base35 freeglut3\n",
            "  gdal-bin ghostscript grass-core grass-doc grass-gui libfftw3-double3 libfontenc1 libglu1-mesa\n",
            "  libgs9 libgs9-common libidn12 libijs-0.35 libimagequant0 libjbig2dec0 liblbfgsb0 libnotify4\n",
            "  libraqm0 libwxbase3.0-0v5 libwxgtk3.0-gtk3-0v5 libxkbfile1 libxsimd-dev libxtst6 libxxf86dga1\n",
            "  mailcap mime-support poppler-data proj-bin python-matplotlib-data python3-appdirs python3-attr\n",
            "  python3-beniget python3-brotli python3-bs4 python3-chardet python3-cycler python3-dateutil\n",
            "  python3-decorator python3-fonttools python3-fs python3-gast python3-gdal python3-html5lib\n",
            "  python3-kiwisolver python3-lxml python3-lz4 python3-matplotlib python3-mpmath python3-numpy\n",
            "  python3-olefile python3-opengl python3-packaging python3-pil python3-pil.imagetk python3-ply\n",
            "  python3-pythran python3-scipy python3-soupsieve python3-sympy python3-tz python3-ufolib2\n",
            "  python3-unicodedata2 python3-webencodings python3-wxgtk4.0 unicode-data x11-utils xbitmaps xterm\n",
            "Suggested packages:\n",
            "  fonts-noto fonts-freefont-otf | fonts-freefont-ttf fonts-texgyre libgdal-grass ghostscript-x\n",
            "  grass-dev e00compr avce00 gnuplot gpsbabel gpstrans netpbm python3-rpy2 python3-termcolor\n",
            "  subversion grass-dev-doc libfftw3-bin libfftw3-dev gnome-shell | notification-daemon libxsimd-doc\n",
            "  poppler-utils fonts-japanese-mincho | fonts-ipafont-mincho fonts-japanese-gothic\n",
            "  | fonts-ipafont-gothic fonts-arphic-ukai fonts-arphic-uming fonts-nanum python-attr-doc\n",
            "  python-cycler-doc python3-genshi python-lxml-doc dvipng fonts-staypuft gir1.2-gtk-3.0 inkscape\n",
            "  ipython3 librsvg2-common python-matplotlib-doc python3-cairocffi python3-gi-cairo python3-gobject\n",
            "  python3-pyqt5 python3-sip python3-tornado texlive-extra-utils texlive-latex-extra\n",
            "  python-mpmath-doc python3-gmpy2 python-numpy-doc python3-pytest libgle3 python-pil-doc\n",
            "  python-ply-doc python-scipy-doc texlive-fonts-extra python-sympy-doc wx3.0-doc mesa-utils\n",
            "  xfonts-cyrillic\n",
            "The following NEW packages will be installed:\n",
            "  fonts-dejavu-core fonts-droid-fallback fonts-lyx fonts-noto-mono fonts-urw-base35 freeglut3\n",
            "  gdal-bin ghostscript grass grass-core grass-doc grass-gui libfftw3-double3 libfontenc1\n",
            "  libglu1-mesa libgs9 libgs9-common libidn12 libijs-0.35 libimagequant0 libjbig2dec0 liblbfgsb0\n",
            "  libnotify4 libraqm0 libwxbase3.0-0v5 libwxgtk3.0-gtk3-0v5 libxkbfile1 libxsimd-dev libxtst6\n",
            "  libxxf86dga1 mailcap mime-support poppler-data proj-bin python-matplotlib-data python3-appdirs\n",
            "  python3-attr python3-beniget python3-brotli python3-bs4 python3-chardet python3-cycler\n",
            "  python3-dateutil python3-decorator python3-fonttools python3-fs python3-gast python3-gdal\n",
            "  python3-html5lib python3-kiwisolver python3-lxml python3-lz4 python3-matplotlib python3-mpmath\n",
            "  python3-numpy python3-olefile python3-opengl python3-packaging python3-pil python3-pil.imagetk\n",
            "  python3-ply python3-pythran python3-scipy python3-soupsieve python3-sympy python3-tz\n",
            "  python3-ufolib2 python3-unicodedata2 python3-webencodings python3-wxgtk4.0 unicode-data x11-utils\n",
            "  xbitmaps xterm\n",
            "0 upgraded, 74 newly installed, 0 to remove and 45 not upgraded.\n",
            "Need to get 125 MB of archives.\n",
            "After this operation, 431 MB of additional disk space will be used.\n",
            "Get:1 http://archive.ubuntu.com/ubuntu jammy/main amd64 fonts-droid-fallback all 1:6.0.1r16-1.1build1 [1,805 kB]\n",
            "Get:2 https://ppa.launchpadcontent.net/ubuntugis/ppa/ubuntu jammy/main amd64 python3-gdal amd64 3.6.4+dfsg-1~jammy0 [1,027 kB]\n",
            "Get:3 http://archive.ubuntu.com/ubuntu jammy/main amd64 poppler-data all 0.4.11-1 [2,171 kB]\n",
            "Get:4 http://archive.ubuntu.com/ubuntu jammy/main amd64 fonts-dejavu-core all 2.37-2build1 [1,041 kB]\n",
            "Get:5 http://archive.ubuntu.com/ubuntu jammy/universe amd64 fonts-lyx all 2.3.6-1 [159 kB]\n",
            "Get:6 http://archive.ubuntu.com/ubuntu jammy/main amd64 fonts-noto-mono all 20201225-1build1 [397 kB]\n",
            "Get:7 http://archive.ubuntu.com/ubuntu jammy/main amd64 fonts-urw-base35 all 20200910-1 [6,367 kB]\n",
            "Get:8 https://ppa.launchpadcontent.net/ubuntugis/ppa/ubuntu jammy/main amd64 gdal-bin amd64 3.6.4+dfsg-1~jammy0 [561 kB]\n",
            "Get:9 https://ppa.launchpadcontent.net/ubuntugis/ppa/ubuntu jammy/main amd64 grass-doc all 8.3.1-1~jammy1 [36.9 MB]\n",
            "Get:10 http://archive.ubuntu.com/ubuntu jammy/universe amd64 freeglut3 amd64 2.8.1-6 [74.0 kB]\n",
            "Get:11 http://archive.ubuntu.com/ubuntu jammy-updates/main amd64 python3-numpy amd64 1:1.21.5-1ubuntu22.04.1 [3,467 kB]\n",
            "Get:12 http://archive.ubuntu.com/ubuntu jammy-updates/main amd64 libgs9-common all 9.55.0~dfsg1-0ubuntu5.9 [752 kB]\n",
            "Get:13 http://archive.ubuntu.com/ubuntu jammy-updates/main amd64 libidn12 amd64 1.38-4ubuntu1 [60.0 kB]\n",
            "Get:14 http://archive.ubuntu.com/ubuntu jammy/main amd64 libijs-0.35 amd64 0.35-15build2 [16.5 kB]\n",
            "Get:15 http://archive.ubuntu.com/ubuntu jammy/main amd64 libjbig2dec0 amd64 0.19-3build2 [64.7 kB]\n",
            "Get:16 http://archive.ubuntu.com/ubuntu jammy-updates/main amd64 libgs9 amd64 9.55.0~dfsg1-0ubuntu5.9 [5,033 kB]\n",
            "Get:17 http://archive.ubuntu.com/ubuntu jammy-updates/main amd64 ghostscript amd64 9.55.0~dfsg1-0ubuntu5.9 [49.5 kB]\n",
            "Get:18 http://archive.ubuntu.com/ubuntu jammy/main amd64 libfftw3-double3 amd64 3.3.8-2ubuntu8 [770 kB]\n",
            "Get:19 http://archive.ubuntu.com/ubuntu jammy/main amd64 libglu1-mesa amd64 9.0.2-1 [145 kB]\n",
            "Get:20 http://archive.ubuntu.com/ubuntu jammy/universe amd64 python3-opengl all 3.1.5+dfsg-1 [605 kB]\n",
            "Get:21 http://archive.ubuntu.com/ubuntu jammy/main amd64 mailcap all 3.70+nmu1ubuntu1 [23.8 kB]\n",
            "Get:22 http://archive.ubuntu.com/ubuntu jammy/main amd64 mime-support all 3.66 [3,696 B]\n",
            "Get:23 http://archive.ubuntu.com/ubuntu jammy-updates/universe amd64 python3-pil.imagetk amd64 9.0.1-1ubuntu0.3 [9,616 B]\n",
            "Get:24 http://archive.ubuntu.com/ubuntu jammy/main amd64 libimagequant0 amd64 2.17.0-1 [34.6 kB]\n",
            "Get:25 http://archive.ubuntu.com/ubuntu jammy/main amd64 libraqm0 amd64 0.7.0-4ubuntu1 [11.7 kB]\n",
            "Get:26 http://archive.ubuntu.com/ubuntu jammy-updates/main amd64 python3-pil amd64 9.0.1-1ubuntu0.3 [419 kB]\n",
            "Get:27 http://archive.ubuntu.com/ubuntu jammy/universe amd64 libwxbase3.0-0v5 amd64 3.0.5.1+dfsg-4 [881 kB]\n",
            "Get:28 http://archive.ubuntu.com/ubuntu jammy-updates/main amd64 libnotify4 amd64 0.7.9-3ubuntu5.22.04.1 [20.3 kB]\n",
            "Get:29 http://archive.ubuntu.com/ubuntu jammy/universe amd64 libwxgtk3.0-gtk3-0v5 amd64 3.0.5.1+dfsg-4 [4,368 kB]\n",
            "Get:30 http://archive.ubuntu.com/ubuntu jammy/main amd64 xbitmaps all 1.1.1-2.1ubuntu1 [23.4 kB]\n",
            "Get:31 http://archive.ubuntu.com/ubuntu jammy/universe amd64 xterm amd64 372-1ubuntu1 [857 kB]\n",
            "Get:32 http://archive.ubuntu.com/ubuntu jammy/main amd64 libfontenc1 amd64 1:1.1.4-1build3 [14.7 kB]\n",
            "Get:33 http://archive.ubuntu.com/ubuntu jammy/universe amd64 liblbfgsb0 amd64 3.0+dfsg.3-10 [29.9 kB]\n",
            "Get:34 http://archive.ubuntu.com/ubuntu jammy/main amd64 libxkbfile1 amd64 1:1.1.0-1build3 [71.8 kB]\n",
            "Get:35 http://archive.ubuntu.com/ubuntu jammy/universe amd64 libxsimd-dev amd64 7.6.0-2 [108 kB]\n",
            "Get:36 http://archive.ubuntu.com/ubuntu jammy/main amd64 libxtst6 amd64 2:1.2.3-1build4 [13.4 kB]\n",
            "Get:37 http://archive.ubuntu.com/ubuntu jammy/main amd64 libxxf86dga1 amd64 2:1.1.5-0ubuntu3 [12.6 kB]\n",
            "Get:38 http://archive.ubuntu.com/ubuntu jammy/universe amd64 python-matplotlib-data all 3.5.1-2build1 [2,942 kB]\n",
            "Get:39 http://archive.ubuntu.com/ubuntu jammy/main amd64 python3-appdirs all 1.4.4-2 [11.4 kB]\n",
            "Get:40 http://archive.ubuntu.com/ubuntu jammy/main amd64 python3-attr all 21.2.0-1 [44.0 kB]\n",
            "Get:41 http://archive.ubuntu.com/ubuntu jammy/universe amd64 python3-gast all 0.5.2-2 [9,394 B]\n",
            "Get:42 http://archive.ubuntu.com/ubuntu jammy/universe amd64 python3-beniget all 0.4.1-2 [9,904 B]\n",
            "Get:43 http://archive.ubuntu.com/ubuntu jammy/universe amd64 python3-brotli amd64 1.0.9-2build6 [319 kB]\n",
            "Get:44 http://archive.ubuntu.com/ubuntu jammy/main amd64 python3-soupsieve all 2.3.1-1 [33.0 kB]\n",
            "Get:45 http://archive.ubuntu.com/ubuntu jammy/main amd64 python3-bs4 all 4.10.0-2 [79.1 kB]\n",
            "Get:46 http://archive.ubuntu.com/ubuntu jammy/main amd64 python3-chardet all 4.0.0-1 [98.0 kB]\n",
            "Get:47 http://archive.ubuntu.com/ubuntu jammy/universe amd64 python3-cycler all 0.11.0-1 [8,156 B]\n",
            "Get:48 http://archive.ubuntu.com/ubuntu jammy/main amd64 python3-dateutil all 2.8.1-6 [78.4 kB]\n",
            "Get:49 http://archive.ubuntu.com/ubuntu jammy/main amd64 python3-decorator all 4.4.2-0ubuntu1 [10.3 kB]\n",
            "Get:50 http://archive.ubuntu.com/ubuntu jammy/main amd64 python3-ply all 3.11-5 [47.5 kB]\n",
            "Get:51 http://archive.ubuntu.com/ubuntu jammy/universe amd64 python3-pythran amd64 0.10.0+ds2-1 [423 kB]\n",
            "Get:52 http://archive.ubuntu.com/ubuntu jammy/universe amd64 python3-scipy amd64 1.8.0-1exp2ubuntu1 [14.7 MB]\n",
            "Get:53 https://ppa.launchpadcontent.net/ubuntugis/ppa/ubuntu jammy/main amd64 grass-core amd64 8.3.1-1~jammy1 [6,776 kB]\n",
            "Get:54 https://ppa.launchpadcontent.net/ubuntugis/ppa/ubuntu jammy/main amd64 python3-wxgtk4.0 amd64 4.0.7+dfsg-13build1+ubuntugis0 [7,257 kB]\n",
            "Get:55 http://archive.ubuntu.com/ubuntu jammy/universe amd64 python3-ufolib2 all 0.13.1+dfsg1-1 [32.2 kB]\n",
            "Get:56 http://archive.ubuntu.com/ubuntu jammy/universe amd64 python3-mpmath all 1.2.1-2 [419 kB]\n",
            "Get:57 http://archive.ubuntu.com/ubuntu jammy/universe amd64 python3-sympy all 1.9-1 [4,312 kB]\n",
            "Get:58 https://ppa.launchpadcontent.net/ubuntugis/ppa/ubuntu jammy/main amd64 grass-gui amd64 8.3.1-1~jammy1 [1,464 kB]\n",
            "Get:59 https://ppa.launchpadcontent.net/ubuntugis/ppa/ubuntu jammy/main amd64 grass all 8.3.1-1~jammy1 [25.9 kB]\n",
            "Get:60 https://ppa.launchpadcontent.net/ubuntugis/ppa/ubuntu jammy/main amd64 proj-bin amd64 9.1.1-1~jammy0 [197 kB]\n",
            "Get:61 http://archive.ubuntu.com/ubuntu jammy-updates/main amd64 python3-tz all 2022.1-1ubuntu0.22.04.1 [30.7 kB]\n",
            "Get:62 http://archive.ubuntu.com/ubuntu jammy/universe amd64 python3-fs all 2.4.12-1 [84.9 kB]\n",
            "Get:63 http://archive.ubuntu.com/ubuntu jammy/main amd64 python3-lxml amd64 4.8.0-1build1 [1,150 kB]\n",
            "Get:64 http://archive.ubuntu.com/ubuntu jammy/universe amd64 python3-lz4 amd64 3.1.3+dfsg-1build3 [33.3 kB]\n",
            "Get:65 http://archive.ubuntu.com/ubuntu jammy/universe amd64 python3-unicodedata2 amd64 14.0.0+ds-8 [376 kB]\n",
            "Get:66 http://archive.ubuntu.com/ubuntu jammy/universe amd64 unicode-data all 14.0.0-1.1 [8,206 kB]\n",
            "Get:67 http://archive.ubuntu.com/ubuntu jammy/universe amd64 python3-fonttools amd64 4.29.1-2build1 [810 kB]\n",
            "Get:68 http://archive.ubuntu.com/ubuntu jammy/main amd64 python3-webencodings all 0.5.1-4 [11.8 kB]\n",
            "Get:69 http://archive.ubuntu.com/ubuntu jammy/main amd64 python3-html5lib all 1.1-3 [87.0 kB]\n",
            "Get:70 http://archive.ubuntu.com/ubuntu jammy/universe amd64 python3-kiwisolver amd64 1.3.2-1build1 [48.0 kB]\n",
            "Get:71 http://archive.ubuntu.com/ubuntu jammy/main amd64 python3-packaging all 21.3-1 [30.7 kB]\n",
            "Get:72 http://archive.ubuntu.com/ubuntu jammy/universe amd64 python3-matplotlib amd64 3.5.1-2build1 [5,937 kB]\n",
            "Get:73 http://archive.ubuntu.com/ubuntu jammy/main amd64 python3-olefile all 0.46-3 [33.8 kB]\n",
            "Get:74 http://archive.ubuntu.com/ubuntu jammy/main amd64 x11-utils amd64 7.7+5build2 [206 kB]\n",
            "Fetched 125 MB in 3s (37.1 MB/s)\n",
            "Extracting templates from packages: 100%\n",
            "Selecting previously unselected package fonts-droid-fallback.\n",
            "(Reading database ... 123589 files and directories currently installed.)\n",
            "Preparing to unpack .../00-fonts-droid-fallback_1%3a6.0.1r16-1.1build1_all.deb ...\n",
            "Unpacking fonts-droid-fallback (1:6.0.1r16-1.1build1) ...\n",
            "Selecting previously unselected package poppler-data.\n",
            "Preparing to unpack .../01-poppler-data_0.4.11-1_all.deb ...\n",
            "Unpacking poppler-data (0.4.11-1) ...\n",
            "Selecting previously unselected package fonts-dejavu-core.\n",
            "Preparing to unpack .../02-fonts-dejavu-core_2.37-2build1_all.deb ...\n",
            "Unpacking fonts-dejavu-core (2.37-2build1) ...\n",
            "Selecting previously unselected package fonts-lyx.\n",
            "Preparing to unpack .../03-fonts-lyx_2.3.6-1_all.deb ...\n",
            "Unpacking fonts-lyx (2.3.6-1) ...\n",
            "Selecting previously unselected package fonts-noto-mono.\n",
            "Preparing to unpack .../04-fonts-noto-mono_20201225-1build1_all.deb ...\n",
            "Unpacking fonts-noto-mono (20201225-1build1) ...\n",
            "Selecting previously unselected package fonts-urw-base35.\n",
            "Preparing to unpack .../05-fonts-urw-base35_20200910-1_all.deb ...\n",
            "Unpacking fonts-urw-base35 (20200910-1) ...\n",
            "Selecting previously unselected package freeglut3:amd64.\n",
            "Preparing to unpack .../06-freeglut3_2.8.1-6_amd64.deb ...\n",
            "Unpacking freeglut3:amd64 (2.8.1-6) ...\n",
            "Selecting previously unselected package python3-numpy.\n",
            "Preparing to unpack .../07-python3-numpy_1%3a1.21.5-1ubuntu22.04.1_amd64.deb ...\n",
            "Unpacking python3-numpy (1:1.21.5-1ubuntu22.04.1) ...\n",
            "Selecting previously unselected package python3-gdal.\n",
            "Preparing to unpack .../08-python3-gdal_3.6.4+dfsg-1~jammy0_amd64.deb ...\n",
            "Unpacking python3-gdal (3.6.4+dfsg-1~jammy0) ...\n",
            "Selecting previously unselected package gdal-bin.\n",
            "Preparing to unpack .../09-gdal-bin_3.6.4+dfsg-1~jammy0_amd64.deb ...\n",
            "Unpacking gdal-bin (3.6.4+dfsg-1~jammy0) ...\n",
            "Selecting previously unselected package libgs9-common.\n",
            "Preparing to unpack .../10-libgs9-common_9.55.0~dfsg1-0ubuntu5.9_all.deb ...\n",
            "Unpacking libgs9-common (9.55.0~dfsg1-0ubuntu5.9) ...\n",
            "Selecting previously unselected package libidn12:amd64.\n",
            "Preparing to unpack .../11-libidn12_1.38-4ubuntu1_amd64.deb ...\n",
            "Unpacking libidn12:amd64 (1.38-4ubuntu1) ...\n",
            "Selecting previously unselected package libijs-0.35:amd64.\n",
            "Preparing to unpack .../12-libijs-0.35_0.35-15build2_amd64.deb ...\n",
            "Unpacking libijs-0.35:amd64 (0.35-15build2) ...\n",
            "Selecting previously unselected package libjbig2dec0:amd64.\n",
            "Preparing to unpack .../13-libjbig2dec0_0.19-3build2_amd64.deb ...\n",
            "Unpacking libjbig2dec0:amd64 (0.19-3build2) ...\n",
            "Selecting previously unselected package libgs9:amd64.\n",
            "Preparing to unpack .../14-libgs9_9.55.0~dfsg1-0ubuntu5.9_amd64.deb ...\n",
            "Unpacking libgs9:amd64 (9.55.0~dfsg1-0ubuntu5.9) ...\n",
            "Selecting previously unselected package ghostscript.\n",
            "Preparing to unpack .../15-ghostscript_9.55.0~dfsg1-0ubuntu5.9_amd64.deb ...\n",
            "Unpacking ghostscript (9.55.0~dfsg1-0ubuntu5.9) ...\n",
            "Selecting previously unselected package grass-doc.\n",
            "Preparing to unpack .../16-grass-doc_8.3.1-1~jammy1_all.deb ...\n",
            "Unpacking grass-doc (8.3.1-1~jammy1) ...\n",
            "Selecting previously unselected package libfftw3-double3:amd64.\n",
            "Preparing to unpack .../17-libfftw3-double3_3.3.8-2ubuntu8_amd64.deb ...\n",
            "Unpacking libfftw3-double3:amd64 (3.3.8-2ubuntu8) ...\n",
            "Selecting previously unselected package libglu1-mesa:amd64.\n",
            "Preparing to unpack .../18-libglu1-mesa_9.0.2-1_amd64.deb ...\n",
            "Unpacking libglu1-mesa:amd64 (9.0.2-1) ...\n",
            "Selecting previously unselected package grass-core.\n",
            "Preparing to unpack .../19-grass-core_8.3.1-1~jammy1_amd64.deb ...\n",
            "Unpacking grass-core (8.3.1-1~jammy1) ...\n",
            "Selecting previously unselected package python3-opengl.\n",
            "Preparing to unpack .../20-python3-opengl_3.1.5+dfsg-1_all.deb ...\n",
            "Unpacking python3-opengl (3.1.5+dfsg-1) ...\n",
            "Selecting previously unselected package mailcap.\n",
            "Preparing to unpack .../21-mailcap_3.70+nmu1ubuntu1_all.deb ...\n",
            "Unpacking mailcap (3.70+nmu1ubuntu1) ...\n",
            "Selecting previously unselected package mime-support.\n",
            "Preparing to unpack .../22-mime-support_3.66_all.deb ...\n",
            "Unpacking mime-support (3.66) ...\n",
            "Selecting previously unselected package python3-pil.imagetk:amd64.\n",
            "Preparing to unpack .../23-python3-pil.imagetk_9.0.1-1ubuntu0.3_amd64.deb ...\n",
            "Unpacking python3-pil.imagetk:amd64 (9.0.1-1ubuntu0.3) ...\n",
            "Selecting previously unselected package libimagequant0:amd64.\n",
            "Preparing to unpack .../24-libimagequant0_2.17.0-1_amd64.deb ...\n",
            "Unpacking libimagequant0:amd64 (2.17.0-1) ...\n",
            "Selecting previously unselected package libraqm0:amd64.\n",
            "Preparing to unpack .../25-libraqm0_0.7.0-4ubuntu1_amd64.deb ...\n",
            "Unpacking libraqm0:amd64 (0.7.0-4ubuntu1) ...\n",
            "Selecting previously unselected package python3-pil:amd64.\n",
            "Preparing to unpack .../26-python3-pil_9.0.1-1ubuntu0.3_amd64.deb ...\n",
            "Unpacking python3-pil:amd64 (9.0.1-1ubuntu0.3) ...\n",
            "Selecting previously unselected package libwxbase3.0-0v5:amd64.\n",
            "Preparing to unpack .../27-libwxbase3.0-0v5_3.0.5.1+dfsg-4_amd64.deb ...\n",
            "Unpacking libwxbase3.0-0v5:amd64 (3.0.5.1+dfsg-4) ...\n",
            "Selecting previously unselected package libnotify4:amd64.\n",
            "Preparing to unpack .../28-libnotify4_0.7.9-3ubuntu5.22.04.1_amd64.deb ...\n",
            "Unpacking libnotify4:amd64 (0.7.9-3ubuntu5.22.04.1) ...\n",
            "Selecting previously unselected package libwxgtk3.0-gtk3-0v5:amd64.\n",
            "Preparing to unpack .../29-libwxgtk3.0-gtk3-0v5_3.0.5.1+dfsg-4_amd64.deb ...\n",
            "Unpacking libwxgtk3.0-gtk3-0v5:amd64 (3.0.5.1+dfsg-4) ...\n",
            "Selecting previously unselected package python3-wxgtk4.0.\n",
            "Preparing to unpack .../30-python3-wxgtk4.0_4.0.7+dfsg-13build1+ubuntugis0_amd64.deb ...\n",
            "Unpacking python3-wxgtk4.0 (4.0.7+dfsg-13build1+ubuntugis0) ...\n",
            "Selecting previously unselected package xbitmaps.\n",
            "Preparing to unpack .../31-xbitmaps_1.1.1-2.1ubuntu1_all.deb ...\n",
            "Unpacking xbitmaps (1.1.1-2.1ubuntu1) ...\n",
            "Selecting previously unselected package xterm.\n",
            "Preparing to unpack .../32-xterm_372-1ubuntu1_amd64.deb ...\n",
            "Unpacking xterm (372-1ubuntu1) ...\n",
            "Selecting previously unselected package grass-gui.\n",
            "Preparing to unpack .../33-grass-gui_8.3.1-1~jammy1_amd64.deb ...\n",
            "Unpacking grass-gui (8.3.1-1~jammy1) ...\n",
            "Selecting previously unselected package grass.\n",
            "Preparing to unpack .../34-grass_8.3.1-1~jammy1_all.deb ...\n",
            "Unpacking grass (8.3.1-1~jammy1) ...\n",
            "Selecting previously unselected package libfontenc1:amd64.\n",
            "Preparing to unpack .../35-libfontenc1_1%3a1.1.4-1build3_amd64.deb ...\n",
            "Unpacking libfontenc1:amd64 (1:1.1.4-1build3) ...\n",
            "Selecting previously unselected package liblbfgsb0:amd64.\n",
            "Preparing to unpack .../36-liblbfgsb0_3.0+dfsg.3-10_amd64.deb ...\n",
            "Unpacking liblbfgsb0:amd64 (3.0+dfsg.3-10) ...\n",
            "Selecting previously unselected package libxkbfile1:amd64.\n",
            "Preparing to unpack .../37-libxkbfile1_1%3a1.1.0-1build3_amd64.deb ...\n",
            "Unpacking libxkbfile1:amd64 (1:1.1.0-1build3) ...\n",
            "Selecting previously unselected package libxsimd-dev:amd64.\n",
            "Preparing to unpack .../38-libxsimd-dev_7.6.0-2_amd64.deb ...\n",
            "Unpacking libxsimd-dev:amd64 (7.6.0-2) ...\n",
            "Selecting previously unselected package libxtst6:amd64.\n",
            "Preparing to unpack .../39-libxtst6_2%3a1.2.3-1build4_amd64.deb ...\n",
            "Unpacking libxtst6:amd64 (2:1.2.3-1build4) ...\n",
            "Selecting previously unselected package libxxf86dga1:amd64.\n",
            "Preparing to unpack .../40-libxxf86dga1_2%3a1.1.5-0ubuntu3_amd64.deb ...\n",
            "Unpacking libxxf86dga1:amd64 (2:1.1.5-0ubuntu3) ...\n",
            "Selecting previously unselected package proj-bin.\n",
            "Preparing to unpack .../41-proj-bin_9.1.1-1~jammy0_amd64.deb ...\n",
            "Unpacking proj-bin (9.1.1-1~jammy0) ...\n",
            "Selecting previously unselected package python-matplotlib-data.\n",
            "Preparing to unpack .../42-python-matplotlib-data_3.5.1-2build1_all.deb ...\n",
            "Unpacking python-matplotlib-data (3.5.1-2build1) ...\n",
            "Selecting previously unselected package python3-appdirs.\n",
            "Preparing to unpack .../43-python3-appdirs_1.4.4-2_all.deb ...\n",
            "Unpacking python3-appdirs (1.4.4-2) ...\n",
            "Selecting previously unselected package python3-attr.\n",
            "Preparing to unpack .../44-python3-attr_21.2.0-1_all.deb ...\n",
            "Unpacking python3-attr (21.2.0-1) ...\n",
            "Selecting previously unselected package python3-gast.\n",
            "Preparing to unpack .../45-python3-gast_0.5.2-2_all.deb ...\n",
            "Unpacking python3-gast (0.5.2-2) ...\n",
            "Selecting previously unselected package python3-beniget.\n",
            "Preparing to unpack .../46-python3-beniget_0.4.1-2_all.deb ...\n",
            "Unpacking python3-beniget (0.4.1-2) ...\n",
            "Selecting previously unselected package python3-brotli.\n",
            "Preparing to unpack .../47-python3-brotli_1.0.9-2build6_amd64.deb ...\n",
            "Unpacking python3-brotli (1.0.9-2build6) ...\n",
            "Selecting previously unselected package python3-soupsieve.\n",
            "Preparing to unpack .../48-python3-soupsieve_2.3.1-1_all.deb ...\n",
            "Unpacking python3-soupsieve (2.3.1-1) ...\n",
            "Selecting previously unselected package python3-bs4.\n",
            "Preparing to unpack .../49-python3-bs4_4.10.0-2_all.deb ...\n",
            "Unpacking python3-bs4 (4.10.0-2) ...\n",
            "Selecting previously unselected package python3-chardet.\n",
            "Preparing to unpack .../50-python3-chardet_4.0.0-1_all.deb ...\n",
            "Unpacking python3-chardet (4.0.0-1) ...\n",
            "Selecting previously unselected package python3-cycler.\n",
            "Preparing to unpack .../51-python3-cycler_0.11.0-1_all.deb ...\n",
            "Unpacking python3-cycler (0.11.0-1) ...\n",
            "Selecting previously unselected package python3-dateutil.\n",
            "Preparing to unpack .../52-python3-dateutil_2.8.1-6_all.deb ...\n",
            "Unpacking python3-dateutil (2.8.1-6) ...\n",
            "Selecting previously unselected package python3-decorator.\n",
            "Preparing to unpack .../53-python3-decorator_4.4.2-0ubuntu1_all.deb ...\n",
            "Unpacking python3-decorator (4.4.2-0ubuntu1) ...\n",
            "Selecting previously unselected package python3-ply.\n",
            "Preparing to unpack .../54-python3-ply_3.11-5_all.deb ...\n",
            "Unpacking python3-ply (3.11-5) ...\n",
            "Selecting previously unselected package python3-pythran.\n",
            "Preparing to unpack .../55-python3-pythran_0.10.0+ds2-1_amd64.deb ...\n",
            "Unpacking python3-pythran (0.10.0+ds2-1) ...\n",
            "Selecting previously unselected package python3-scipy.\n",
            "Preparing to unpack .../56-python3-scipy_1.8.0-1exp2ubuntu1_amd64.deb ...\n",
            "Unpacking python3-scipy (1.8.0-1exp2ubuntu1) ...\n",
            "Selecting previously unselected package python3-ufolib2.\n",
            "Preparing to unpack .../57-python3-ufolib2_0.13.1+dfsg1-1_all.deb ...\n",
            "Unpacking python3-ufolib2 (0.13.1+dfsg1-1) ...\n",
            "Selecting previously unselected package python3-mpmath.\n",
            "Preparing to unpack .../58-python3-mpmath_1.2.1-2_all.deb ...\n",
            "Unpacking python3-mpmath (1.2.1-2) ...\n",
            "Selecting previously unselected package python3-sympy.\n",
            "Preparing to unpack .../59-python3-sympy_1.9-1_all.deb ...\n",
            "Unpacking python3-sympy (1.9-1) ...\n",
            "Selecting previously unselected package python3-tz.\n",
            "Preparing to unpack .../60-python3-tz_2022.1-1ubuntu0.22.04.1_all.deb ...\n",
            "Unpacking python3-tz (2022.1-1ubuntu0.22.04.1) ...\n",
            "Selecting previously unselected package python3-fs.\n",
            "Preparing to unpack .../61-python3-fs_2.4.12-1_all.deb ...\n",
            "Unpacking python3-fs (2.4.12-1) ...\n",
            "Selecting previously unselected package python3-lxml:amd64.\n",
            "Preparing to unpack .../62-python3-lxml_4.8.0-1build1_amd64.deb ...\n",
            "Unpacking python3-lxml:amd64 (4.8.0-1build1) ...\n",
            "Selecting previously unselected package python3-lz4.\n",
            "Preparing to unpack .../63-python3-lz4_3.1.3+dfsg-1build3_amd64.deb ...\n",
            "Unpacking python3-lz4 (3.1.3+dfsg-1build3) ...\n",
            "Selecting previously unselected package python3-unicodedata2.\n",
            "Preparing to unpack .../64-python3-unicodedata2_14.0.0+ds-8_amd64.deb ...\n",
            "Unpacking python3-unicodedata2 (14.0.0+ds-8) ...\n",
            "Selecting previously unselected package unicode-data.\n",
            "Preparing to unpack .../65-unicode-data_14.0.0-1.1_all.deb ...\n",
            "Unpacking unicode-data (14.0.0-1.1) ...\n",
            "Selecting previously unselected package python3-fonttools.\n",
            "Preparing to unpack .../66-python3-fonttools_4.29.1-2build1_amd64.deb ...\n",
            "Unpacking python3-fonttools (4.29.1-2build1) ...\n",
            "Selecting previously unselected package python3-webencodings.\n",
            "Preparing to unpack .../67-python3-webencodings_0.5.1-4_all.deb ...\n",
            "Unpacking python3-webencodings (0.5.1-4) ...\n",
            "Selecting previously unselected package python3-html5lib.\n",
            "Preparing to unpack .../68-python3-html5lib_1.1-3_all.deb ...\n",
            "Unpacking python3-html5lib (1.1-3) ...\n",
            "Selecting previously unselected package python3-kiwisolver.\n",
            "Preparing to unpack .../69-python3-kiwisolver_1.3.2-1build1_amd64.deb ...\n",
            "Unpacking python3-kiwisolver (1.3.2-1build1) ...\n",
            "Selecting previously unselected package python3-packaging.\n",
            "Preparing to unpack .../70-python3-packaging_21.3-1_all.deb ...\n",
            "Unpacking python3-packaging (21.3-1) ...\n",
            "Selecting previously unselected package python3-matplotlib.\n",
            "Preparing to unpack .../71-python3-matplotlib_3.5.1-2build1_amd64.deb ...\n",
            "Unpacking python3-matplotlib (3.5.1-2build1) ...\n",
            "Selecting previously unselected package python3-olefile.\n",
            "Preparing to unpack .../72-python3-olefile_0.46-3_all.deb ...\n",
            "Unpacking python3-olefile (0.46-3) ...\n",
            "Selecting previously unselected package x11-utils.\n",
            "Preparing to unpack .../73-x11-utils_7.7+5build2_amd64.deb ...\n",
            "Unpacking x11-utils (7.7+5build2) ...\n",
            "Setting up python3-attr (21.2.0-1) ...\n",
            "Setting up freeglut3:amd64 (2.8.1-6) ...\n",
            "Setting up fonts-noto-mono (20201225-1build1) ...\n",
            "Setting up python3-lz4 (3.1.3+dfsg-1build3) ...\n",
            "Setting up python3-unicodedata2 (14.0.0+ds-8) ...\n",
            "Setting up libxtst6:amd64 (2:1.2.3-1build4) ...\n",
            "Setting up fonts-lyx (2.3.6-1) ...\n",
            "Setting up libijs-0.35:amd64 (0.35-15build2) ...\n",
            "Setting up python3-olefile (0.46-3) ...\n",
            "Setting up python3-ply (3.11-5) ...\n",
            "Setting up python3-gast (0.5.2-2) ...\n",
            "Setting up libxxf86dga1:amd64 (2:1.1.5-0ubuntu3) ...\n",
            "Setting up proj-bin (9.1.1-1~jammy0) ...\n",
            "Setting up fonts-urw-base35 (20200910-1) ...\n",
            "Setting up python3-webencodings (0.5.1-4) ...\n",
            "Setting up python3-tz (2022.1-1ubuntu0.22.04.1) ...\n",
            "Setting up poppler-data (0.4.11-1) ...\n",
            "Setting up unicode-data (14.0.0-1.1) ...\n",
            "Setting up python3-beniget (0.4.1-2) ...\n",
            "Setting up libxsimd-dev:amd64 (7.6.0-2) ...\n",
            "Setting up python3-decorator (4.4.2-0ubuntu1) ...\n",
            "Setting up libfontenc1:amd64 (1:1.1.4-1build3) ...\n",
            "Setting up python3-packaging (21.3-1) ...\n",
            "Setting up python3-chardet (4.0.0-1) ...\n",
            "Setting up libjbig2dec0:amd64 (0.19-3build2) ...\n",
            "Setting up libnotify4:amd64 (0.7.9-3ubuntu5.22.04.1) ...\n",
            "Setting up python3-brotli (1.0.9-2build6) ...\n",
            "Setting up libraqm0:amd64 (0.7.0-4ubuntu1) ...\n",
            "Setting up python3-cycler (0.11.0-1) ...\n",
            "Setting up libimagequant0:amd64 (2.17.0-1) ...\n",
            "Setting up python3-kiwisolver (1.3.2-1build1) ...\n",
            "Setting up grass-doc (8.3.1-1~jammy1) ...\n",
            "Setting up libidn12:amd64 (1.38-4ubuntu1) ...\n",
            "Setting up fonts-dejavu-core (2.37-2build1) ...\n",
            "Setting up python3-html5lib (1.1-3) ...\n",
            "Setting up python3-numpy (1:1.21.5-1ubuntu22.04.1) ...\n",
            "Setting up libfftw3-double3:amd64 (3.3.8-2ubuntu8) ...\n",
            "Setting up python3-pythran (0.10.0+ds2-1) ...\n",
            "Setting up python3-lxml:amd64 (4.8.0-1build1) ...\n",
            "Setting up python3-dateutil (2.8.1-6) ...\n",
            "Setting up libwxbase3.0-0v5:amd64 (3.0.5.1+dfsg-4) ...\n",
            "Setting up libglu1-mesa:amd64 (9.0.2-1) ...\n",
            "Setting up fonts-droid-fallback (1:6.0.1r16-1.1build1) ...\n",
            "Setting up libxkbfile1:amd64 (1:1.1.0-1build3) ...\n",
            "Setting up python3-mpmath (1.2.1-2) ...\n",
            "Setting up python-matplotlib-data (3.5.1-2build1) ...\n",
            "Setting up python3-appdirs (1.4.4-2) ...\n",
            "Setting up mailcap (3.70+nmu1ubuntu1) ...\n",
            "Setting up python3-soupsieve (2.3.1-1) ...\n",
            "Setting up python3-gdal (3.6.4+dfsg-1~jammy0) ...\n",
            "Setting up xbitmaps (1.1.1-2.1ubuntu1) ...\n",
            "Setting up liblbfgsb0:amd64 (3.0+dfsg.3-10) ...\n",
            "Setting up libgs9-common (9.55.0~dfsg1-0ubuntu5.9) ...\n",
            "Setting up python3-sympy (1.9-1) ...\n",
            "Setting up python3-scipy (1.8.0-1exp2ubuntu1) ...\n",
            "Setting up mime-support (3.66) ...\n",
            "Setting up libgs9:amd64 (9.55.0~dfsg1-0ubuntu5.9) ...\n",
            "Setting up grass-core (8.3.1-1~jammy1) ...\n",
            "Setting up python3-opengl (3.1.5+dfsg-1) ...\n",
            "Setting up ghostscript (9.55.0~dfsg1-0ubuntu5.9) ...\n",
            "Setting up libwxgtk3.0-gtk3-0v5:amd64 (3.0.5.1+dfsg-4) ...\n",
            "Setting up python3-bs4 (4.10.0-2) ...\n",
            "Setting up python3-fs (2.4.12-1) ...\n",
            "Setting up python3-pil:amd64 (9.0.1-1ubuntu0.3) ...\n",
            "Setting up gdal-bin (3.6.4+dfsg-1~jammy0) ...\n",
            "Setting up python3-pil.imagetk:amd64 (9.0.1-1ubuntu0.3) ...\n",
            "Setting up x11-utils (7.7+5build2) ...\n",
            "Setting up xterm (372-1ubuntu1) ...\n",
            "update-alternatives: using /usr/bin/xterm to provide /usr/bin/x-terminal-emulator (x-terminal-emulator) in auto mode\n",
            "update-alternatives: using /usr/bin/lxterm to provide /usr/bin/x-terminal-emulator (x-terminal-emulator) in auto mode\n",
            "Setting up python3-wxgtk4.0 (4.0.7+dfsg-13build1+ubuntugis0) ...\n",
            "Setting up grass-gui (8.3.1-1~jammy1) ...\n",
            "Setting up grass (8.3.1-1~jammy1) ...\n",
            "Setting up python3-fonttools (4.29.1-2build1) ...\n",
            "Setting up python3-ufolib2 (0.13.1+dfsg1-1) ...\n",
            "Setting up python3-matplotlib (3.5.1-2build1) ...\n",
            "Processing triggers for hicolor-icon-theme (0.17-2) ...\n",
            "Processing triggers for libc-bin (2.35-0ubuntu3.4) ...\n",
            "/sbin/ldconfig.real: /usr/local/lib/libtbbmalloc.so.2 is not a symbolic link\n",
            "\n",
            "/sbin/ldconfig.real: /usr/local/lib/libur_adapter_level_zero.so.0 is not a symbolic link\n",
            "\n",
            "/sbin/ldconfig.real: /usr/local/lib/libtbbmalloc_proxy.so.2 is not a symbolic link\n",
            "\n",
            "/sbin/ldconfig.real: /usr/local/lib/libtbbbind_2_0.so.3 is not a symbolic link\n",
            "\n",
            "/sbin/ldconfig.real: /usr/local/lib/libur_adapter_opencl.so.0 is not a symbolic link\n",
            "\n",
            "/sbin/ldconfig.real: /usr/local/lib/libur_loader.so.0 is not a symbolic link\n",
            "\n",
            "/sbin/ldconfig.real: /usr/local/lib/libtbb.so.12 is not a symbolic link\n",
            "\n",
            "/sbin/ldconfig.real: /usr/local/lib/libtbbbind.so.3 is not a symbolic link\n",
            "\n",
            "/sbin/ldconfig.real: /usr/local/lib/libtbbbind_2_5.so.3 is not a symbolic link\n",
            "\n",
            "Processing triggers for man-db (2.10.2-1) ...\n",
            "Processing triggers for fontconfig (2.13.1-4.2ubuntu5) ...\n"
          ]
        }
      ]
    },
    {
      "cell_type": "code",
      "source": [
        "!pip install grass_session"
      ],
      "metadata": {
        "colab": {
          "base_uri": "https://localhost:8080/"
        },
        "collapsed": true,
        "id": "ry8uxINOFLsC",
        "outputId": "116ea653-70bd-48f1-aafd-25c4bf2c511a"
      },
      "execution_count": 3,
      "outputs": [
        {
          "output_type": "stream",
          "name": "stdout",
          "text": [
            "Collecting grass_session\n",
            "  Downloading grass_session-0.5-py2.py3-none-any.whl.metadata (2.5 kB)\n",
            "Downloading grass_session-0.5-py2.py3-none-any.whl (31 kB)\n",
            "Installing collected packages: grass_session\n",
            "Successfully installed grass_session-0.5\n"
          ]
        }
      ]
    },
    {
      "cell_type": "code",
      "source": [
        "import os\n",
        "os.environ.update({'GRASSBIN': '/usr/bin/grass'})\n",
        "##export LD_LIBRARY_PATH=$(grass78 --config path)/lib\n",
        "from grass_session import TmpSession\n",
        "from grass.pygrass.modules.shortcuts import general as g\n",
        "from grass.pygrass.modules.shortcuts import raster as r\n",
        "from grass.pygrass.modules.shortcuts import display as d\n",
        "from grass.pygrass.modules.shortcuts import vector as v\n",
        "from grass.pygrass.gis import *\n",
        "import grass.script as grass\n",
        "import grass.script.setup as gsetup\n"
      ],
      "metadata": {
        "id": "YahDAnnsYM_0"
      },
      "execution_count": 4,
      "outputs": []
    },
    {
      "cell_type": "code",
      "source": [
        "!/usr/bin/grass -c EPSG:4326 -e /content/grassdata/latlong"
      ],
      "metadata": {
        "colab": {
          "base_uri": "https://localhost:8080/"
        },
        "id": "aKDBq8-OTZao",
        "outputId": "6dad5f03-912c-4fd0-94d2-21295d19e374"
      },
      "execution_count": 16,
      "outputs": [
        {
          "output_type": "stream",
          "name": "stdout",
          "text": [
            "Creating new GRASS GIS location <latlong>...\n"
          ]
        }
      ]
    },
    {
      "cell_type": "code",
      "source": [
        "!/usr/bin/grass -c -e /content/grassdata/latlong/RF_Dubai_new"
      ],
      "metadata": {
        "colab": {
          "base_uri": "https://localhost:8080/"
        },
        "id": "S2bmNC7XUb6k",
        "outputId": "3476ae7d-1e3f-4bb3-a0e3-130af3d71e19"
      },
      "execution_count": 19,
      "outputs": [
        {
          "output_type": "stream",
          "name": "stdout",
          "text": [
            "Creating new GRASS GIS mapset <RF_Dubai_new>...\n"
          ]
        }
      ]
    },
    {
      "cell_type": "code",
      "source": [
        "!/usr/bin/grass /content/grassdata/latlong/RF_Dubai_new/ --exec g.region -pg"
      ],
      "metadata": {
        "colab": {
          "base_uri": "https://localhost:8080/"
        },
        "id": "1lb3qyA-VRuX",
        "outputId": "6d342c0d-8324-4564-def7-0ebd3f5ea039"
      },
      "execution_count": 2,
      "outputs": [
        {
          "output_type": "stream",
          "name": "stdout",
          "text": [
            "Traceback (most recent call last):\n",
            "  File \"/usr/bin/grass\", line 2772, in <module>\n",
            "    main()\n",
            "  File \"/usr/bin/grass\", line 2653, in main\n",
            "    set_mapset(gisrc=gisrc, arg=params.mapset, create_new=params.create_new)\n",
            "  File \"/usr/bin/grass\", line 1043, in set_mapset\n",
            "    from grass.grassdb.checks import (\n",
            "ModuleNotFoundError: No module named 'grass.grassdb'\n"
          ]
        }
      ]
    },
    {
      "cell_type": "code",
      "source": [
        "!/usr/bin/grass /content/grassdata/latlong/RF_Dubai_new/ --exec v.in.ogr in='/content/RF_data/gadm41_ARE_0.shp' out=uae_bdry"
      ],
      "metadata": {
        "colab": {
          "base_uri": "https://localhost:8080/"
        },
        "id": "kTXrCHAYXS0q",
        "outputId": "f7cb01e9-d2e0-422e-a846-62854b96c617"
      },
      "execution_count": 24,
      "outputs": [
        {
          "output_type": "stream",
          "name": "stdout",
          "text": [
            "Check if OGR layer <gadm41_ARE_0> contains polygons...\n",
            "   0%\b\b\b\b\b 100%\b\b\b\b\b\n",
            "Creating attribute table for layer <gadm41_ARE_0>...\n",
            "Importing 1 features (OGR layer <gadm41_ARE_0>)...\n",
            "   0%\b\b\b\b\b 100%\b\b\b\b\b\n",
            "-----------------------------------------------------\n",
            "Registering primitives...\n",
            "\r-----------------------------------------------------\n",
            "Cleaning polygons\n",
            "-----------------------------------------------------\n",
            "Breaking polygons...\n",
            "Breaking polygons (pass 1: select break points)...\n",
            "   1%\b\b\b\b\b   3%\b\b\b\b\b   5%\b\b\b\b\b   7%\b\b\b\b\b   9%\b\b\b\b\b  11%\b\b\b\b\b  13%\b\b\b\b\b  15%\b\b\b\b\b  17%\b\b\b\b\b  19%\b\b\b\b\b  21%\b\b\b\b\b  23%\b\b\b\b\b  25%\b\b\b\b\b  27%\b\b\b\b\b  29%\b\b\b\b\b  31%\b\b\b\b\b  33%\b\b\b\b\b  35%\b\b\b\b\b  37%\b\b\b\b\b  39%\b\b\b\b\b  41%\b\b\b\b\b  43%\b\b\b\b\b  45%\b\b\b\b\b  47%\b\b\b\b\b  49%\b\b\b\b\b  51%\b\b\b\b\b  53%\b\b\b\b\b  55%\b\b\b\b\b  57%\b\b\b\b\b  59%\b\b\b\b\b  61%\b\b\b\b\b  63%\b\b\b\b\b  65%\b\b\b\b\b  67%\b\b\b\b\b  69%\b\b\b\b\b  71%\b\b\b\b\b  73%\b\b\b\b\b  75%\b\b\b\b\b  77%\b\b\b\b\b  79%\b\b\b\b\b  81%\b\b\b\b\b  83%\b\b\b\b\b  85%\b\b\b\b\b  87%\b\b\b\b\b  89%\b\b\b\b\b  91%\b\b\b\b\b  93%\b\b\b\b\b  95%\b\b\b\b\b  97%\b\b\b\b\b  99%\b\b\b\b\b 100%\b\b\b\b\b\n",
            "Breaking polygons (pass 2: break at selected points)...\n",
            "   1%\b\b\b\b\b   3%\b\b\b\b\b   5%\b\b\b\b\b   7%\b\b\b\b\b   9%\b\b\b\b\b  11%\b\b\b\b\b  13%\b\b\b\b\b  15%\b\b\b\b\b  17%\b\b\b\b\b  19%\b\b\b\b\b  21%\b\b\b\b\b  23%\b\b\b\b\b  25%\b\b\b\b\b  27%\b\b\b\b\b  29%\b\b\b\b\b  31%\b\b\b\b\b  33%\b\b\b\b\b  35%\b\b\b\b\b  37%\b\b\b\b\b  39%\b\b\b\b\b  41%\b\b\b\b\b  43%\b\b\b\b\b  45%\b\b\b\b\b  47%\b\b\b\b\b  49%\b\b\b\b\b  51%\b\b\b\b\b  53%\b\b\b\b\b  55%\b\b\b\b\b  57%\b\b\b\b\b  59%\b\b\b\b\b  61%\b\b\b\b\b  63%\b\b\b\b\b  65%\b\b\b\b\b  67%\b\b\b\b\b  69%\b\b\b\b\b  71%\b\b\b\b\b  73%\b\b\b\b\b  75%\b\b\b\b\b  77%\b\b\b\b\b  79%\b\b\b\b\b  81%\b\b\b\b\b  83%\b\b\b\b\b  85%\b\b\b\b\b  87%\b\b\b\b\b  89%\b\b\b\b\b  91%\b\b\b\b\b  93%\b\b\b\b\b  95%\b\b\b\b\b  97%\b\b\b\b\b  99%\b\b\b\b\b 100%\b\b\b\b\b\n",
            "-----------------------------------------------------\n",
            "Removing duplicates...\n",
            "   1%\b\b\b\b\b   3%\b\b\b\b\b   5%\b\b\b\b\b   7%\b\b\b\b\b   9%\b\b\b\b\b  11%\b\b\b\b\b  13%\b\b\b\b\b  15%\b\b\b\b\b  17%\b\b\b\b\b  19%\b\b\b\b\b  21%\b\b\b\b\b  23%\b\b\b\b\b  25%\b\b\b\b\b  27%\b\b\b\b\b  29%\b\b\b\b\b  31%\b\b\b\b\b  33%\b\b\b\b\b  35%\b\b\b\b\b  37%\b\b\b\b\b  39%\b\b\b\b\b  41%\b\b\b\b\b  43%\b\b\b\b\b  45%\b\b\b\b\b  47%\b\b\b\b\b  49%\b\b\b\b\b  51%\b\b\b\b\b  53%\b\b\b\b\b  55%\b\b\b\b\b  57%\b\b\b\b\b  59%\b\b\b\b\b  61%\b\b\b\b\b  63%\b\b\b\b\b  65%\b\b\b\b\b  67%\b\b\b\b\b  69%\b\b\b\b\b  71%\b\b\b\b\b  73%\b\b\b\b\b  75%\b\b\b\b\b  77%\b\b\b\b\b  79%\b\b\b\b\b  81%\b\b\b\b\b  83%\b\b\b\b\b  85%\b\b\b\b\b  87%\b\b\b\b\b  89%\b\b\b\b\b  91%\b\b\b\b\b  93%\b\b\b\b\b  95%\b\b\b\b\b  97%\b\b\b\b\b  99%\b\b\b\b\b 100%\b\b\b\b\b\n",
            "-----------------------------------------------------\n",
            "Breaking boundaries...\n",
            "   0%\b\b\b\b\b   2%\b\b\b\b\b   4%\b\b\b\b\b   6%\b\b\b\b\b   8%\b\b\b\b\b  10%\b\b\b\b\b  12%\b\b\b\b\b  14%\b\b\b\b\b  16%\b\b\b\b\b  18%\b\b\b\b\b  20%\b\b\b\b\b  22%\b\b\b\b\b  24%\b\b\b\b\b  26%\b\b\b\b\b  28%\b\b\b\b\b  30%\b\b\b\b\b  32%\b\b\b\b\b  34%\b\b\b\b\b  36%\b\b\b\b\b  38%\b\b\b\b\b  40%\b\b\b\b\b  42%\b\b\b\b\b  44%\b\b\b\b\b  46%\b\b\b\b\b  48%\b\b\b\b\b  50%\b\b\b\b\b  52%\b\b\b\b\b  54%\b\b\b\b\b  56%\b\b\b\b\b  58%\b\b\b\b\b  60%\b\b\b\b\b  62%\b\b\b\b\b  64%\b\b\b\b\b  66%\b\b\b\b\b  68%\b\b\b\b\b  70%\b\b\b\b\b  72%\b\b\b\b\b  74%\b\b\b\b\b  76%\b\b\b\b\b  78%\b\b\b\b\b  80%\b\b\b\b\b  82%\b\b\b\b\b  84%\b\b\b\b\b  86%\b\b\b\b\b  88%\b\b\b\b\b  90%\b\b\b\b\b  92%\b\b\b\b\b  94%\b\b\b\b\b  96%\b\b\b\b\b  98%\b\b\b\b\b 100%\b\b\b\b\b\n",
            "-----------------------------------------------------\n",
            "Removing duplicates...\n",
            "   1%\b\b\b\b\b   3%\b\b\b\b\b   5%\b\b\b\b\b   7%\b\b\b\b\b   9%\b\b\b\b\b  11%\b\b\b\b\b  13%\b\b\b\b\b  15%\b\b\b\b\b  17%\b\b\b\b\b  19%\b\b\b\b\b  21%\b\b\b\b\b  23%\b\b\b\b\b  25%\b\b\b\b\b  27%\b\b\b\b\b  29%\b\b\b\b\b  31%\b\b\b\b\b  33%\b\b\b\b\b  35%\b\b\b\b\b  37%\b\b\b\b\b  39%\b\b\b\b\b  41%\b\b\b\b\b  43%\b\b\b\b\b  45%\b\b\b\b\b  47%\b\b\b\b\b  49%\b\b\b\b\b  51%\b\b\b\b\b  53%\b\b\b\b\b  55%\b\b\b\b\b  57%\b\b\b\b\b  59%\b\b\b\b\b  61%\b\b\b\b\b  63%\b\b\b\b\b  65%\b\b\b\b\b  67%\b\b\b\b\b  69%\b\b\b\b\b  71%\b\b\b\b\b  73%\b\b\b\b\b  75%\b\b\b\b\b  77%\b\b\b\b\b  79%\b\b\b\b\b  81%\b\b\b\b\b  83%\b\b\b\b\b  85%\b\b\b\b\b  87%\b\b\b\b\b  89%\b\b\b\b\b  91%\b\b\b\b\b  93%\b\b\b\b\b  95%\b\b\b\b\b  97%\b\b\b\b\b  99%\b\b\b\b\b 100%\b\b\b\b\b\n",
            "-----------------------------------------------------\n",
            "Cleaning boundaries at nodes...\n",
            "   1%\b\b\b\b\b   3%\b\b\b\b\b   5%\b\b\b\b\b   7%\b\b\b\b\b   9%\b\b\b\b\b  11%\b\b\b\b\b  13%\b\b\b\b\b  15%\b\b\b\b\b  17%\b\b\b\b\b  19%\b\b\b\b\b  21%\b\b\b\b\b  23%\b\b\b\b\b  25%\b\b\b\b\b  27%\b\b\b\b\b  29%\b\b\b\b\b  31%\b\b\b\b\b  33%\b\b\b\b\b  35%\b\b\b\b\b  37%\b\b\b\b\b  39%\b\b\b\b\b  41%\b\b\b\b\b  43%\b\b\b\b\b  45%\b\b\b\b\b  47%\b\b\b\b\b  49%\b\b\b\b\b  51%\b\b\b\b\b  53%\b\b\b\b\b  55%\b\b\b\b\b  57%\b\b\b\b\b  59%\b\b\b\b\b  61%\b\b\b\b\b  63%\b\b\b\b\b  65%\b\b\b\b\b  67%\b\b\b\b\b  69%\b\b\b\b\b  71%\b\b\b\b\b  73%\b\b\b\b\b  75%\b\b\b\b\b  77%\b\b\b\b\b  79%\b\b\b\b\b  81%\b\b\b\b\b  83%\b\b\b\b\b  85%\b\b\b\b\b  87%\b\b\b\b\b  89%\b\b\b\b\b  91%\b\b\b\b\b  93%\b\b\b\b\b  95%\b\b\b\b\b  97%\b\b\b\b\b  99%\b\b\b\b\b 100%\b\b\b\b\b\n",
            "-----------------------------------------------------\n",
            "Merging boundaries...\n",
            "   2%\b\b\b\b\b   5%\b\b\b\b\b   8%\b\b\b\b\b  11%\b\b\b\b\b  14%\b\b\b\b\b  17%\b\b\b\b\b  20%\b\b\b\b\b  23%\b\b\b\b\b  26%\b\b\b\b\b  29%\b\b\b\b\b  32%\b\b\b\b\b  35%\b\b\b\b\b  38%\b\b\b\b\b  41%\b\b\b\b\b  44%\b\b\b\b\b  47%\b\b\b\b\b  50%\b\b\b\b\b  53%\b\b\b\b\b  56%\b\b\b\b\b  59%\b\b\b\b\b  62%\b\b\b\b\b  65%\b\b\b\b\b  68%\b\b\b\b\b  71%\b\b\b\b\b  74%\b\b\b\b\b  77%\b\b\b\b\b  80%\b\b\b\b\b  83%\b\b\b\b\b  86%\b\b\b\b\b  89%\b\b\b\b\b  92%\b\b\b\b\b  95%\b\b\b\b\b  98%\b\b\b\b\b 100%\b\b\b\b\b\n",
            "-----------------------------------------------------\n",
            "Removing dangles...\n",
            "   1%\b\b\b\b\b   3%\b\b\b\b\b   5%\b\b\b\b\b   7%\b\b\b\b\b   9%\b\b\b\b\b  11%\b\b\b\b\b  13%\b\b\b\b\b  15%\b\b\b\b\b  17%\b\b\b\b\b  19%\b\b\b\b\b  21%\b\b\b\b\b  23%\b\b\b\b\b  25%\b\b\b\b\b  27%\b\b\b\b\b  29%\b\b\b\b\b  31%\b\b\b\b\b  33%\b\b\b\b\b  35%\b\b\b\b\b  37%\b\b\b\b\b  39%\b\b\b\b\b  41%\b\b\b\b\b  43%\b\b\b\b\b  45%\b\b\b\b\b  47%\b\b\b\b\b  49%\b\b\b\b\b  51%\b\b\b\b\b  53%\b\b\b\b\b  55%\b\b\b\b\b  57%\b\b\b\b\b  59%\b\b\b\b\b  61%\b\b\b\b\b  63%\b\b\b\b\b  65%\b\b\b\b\b  67%\b\b\b\b\b  69%\b\b\b\b\b  71%\b\b\b\b\b  73%\b\b\b\b\b  75%\b\b\b\b\b  77%\b\b\b\b\b  79%\b\b\b\b\b  81%\b\b\b\b\b  83%\b\b\b\b\b  85%\b\b\b\b\b  87%\b\b\b\b\b  89%\b\b\b\b\b  91%\b\b\b\b\b  93%\b\b\b\b\b  95%\b\b\b\b\b  97%\b\b\b\b\b  99%\b\b\b\b\b 100%\b\b\b\b\b\n",
            "-----------------------------------------------------\n",
            "Building areas...\n",
            "   0%\b\b\b\b\b   2%\b\b\b\b\b   4%\b\b\b\b\b   6%\b\b\b\b\b   8%\b\b\b\b\b  10%\b\b\b\b\b  12%\b\b\b\b\b  14%\b\b\b\b\b  16%\b\b\b\b\b  18%\b\b\b\b\b  20%\b\b\b\b\b  22%\b\b\b\b\b-----------------------------------------------------\n",
            "Removing bridges...\n",
            "  24%\b\b\b\b\b  26%\b\b\b\b\b  28%\b\b\b\b\b  30%\b\b\b\b\b  32%\b\b\b\b\b  34%\b\b\b\b\b  36%\b\b\b\b\b  38%\b\b\b\b\b  40%\b\b\b\b\b  42%\b\b\b\b\b  44%\b\b\b\b\b  46%\b\b\b\b\b  48%\b\b\b\b\b  50%\b\b\b\b\b  52%\b\b\b\b\b  54%\b\b\b\b\b  56%\b\b\b\b\b  58%\b\b\b\b\b  60%\b\b\b\b\b  62%\b\b\b\b\b  64%\b\b\b\b\b  66%\b\b\b\b\b  68%\b\b\b\b\b  70%\b\b\b\b\b  72%\b\b\b\b\b  74%\b\b\b\b\b  76%\b\b\b\b\b  78%\b\b\b\b\b  80%\b\b\b\b\b  82%\b\b\b\b\b  84%\b\b\b\b\b  86%\b\b\b\b\b  88%\b\b\b\b\b  90%\b\b\b\b\b  92%\b\b\b\b\b  94%\b\b\b\b\b  96%\b\b\b\b\b  98%\b\b\b\b\b 100%\b\b\b\b\b\n",
            "-----------------------------------------------------\n",
            "Registering primitives...\n",
            "Building areas...\n",
            "   0%\b\b\b\b\b   2%\b\b\b\b\b   4%\b\b\b\b\b   6%\b\b\b\b\b   8%\b\b\b\b\b  10%\b\b\b\b\b  12%\b\b\b\b\b  14%\b\b\b\b\b  16%\b\b\b\b\b  18%\b\b\b\b\b  20%\b\b\b\b\b  22%\b\b\b\b\b  24%\b\b\b\b\b  26%\b\b\b\b\b  28%\b\b\b\b\b  30%\b\b\b\b\b  32%\b\b\b\b\b  34%\b\b\b\b\b  36%\b\b\b\b\b  38%\b\b\b\b\b  40%\b\b\b\b\b  42%\b\b\b\b\b  44%\b\b\b\b\b  46%\b\b\b\b\b  48%\b\b\b\b\b  50%\b\b\b\b\b  52%\b\b\b\b\b  54%\b\b\b\b\b  56%\b\b\b\b\b  58%\b\b\b\b\b  60%\b\b\b\b\b  62%\b\b\b\b\b  64%\b\b\b\b\b  66%\b\b\b\b\b  68%\b\b\b\b\b  70%\b\b\b\b\b  72%\b\b\b\b\b  74%\b\b\b\b\b  76%\b\b\b\b\b  78%\b\b\b\b\b  80%\b\b\b\b\b  82%\b\b\b\b\b  84%\b\b\b\b\b  86%\b\b\b\b\b  88%\b\b\b\b\b  90%\b\b\b\b\b  92%\b\b\b\b\b  94%\b\b\b\b\b  96%\b\b\b\b\b  98%\b\b\b\b\b 100%\b\b\b\b\b\n",
            "Attaching islands...\n",
            "   0%\b\b\b\b\b   2%\b\b\b\b\b   4%\b\b\b\b\b   6%\b\b\b\b\b   8%\b\b\b\b\b  10%\b\b\b\b\b  12%\b\b\b\b\b  14%\b\b\b\b\b  16%\b\b\b\b\b  18%\b\b\b\b\b  20%\b\b\b\b\b  22%\b\b\b\b\b  24%\b\b\b\b\b  26%\b\b\b\b\b  28%\b\b\b\b\b  30%\b\b\b\b\b  32%\b\b\b\b\b  34%\b\b\b\b\b  36%\b\b\b\b\b  38%\b\b\b\b\b  40%\b\b\b\b\b  42%\b\b\b\b\b  44%\b\b\b\b\b  46%\b\b\b\b\b  48%\b\b\b\b\b  50%\b\b\b\b\b  52%\b\b\b\b\b  54%\b\b\b\b\b  56%\b\b\b\b\b  58%\b\b\b\b\b  60%\b\b\b\b\b  62%\b\b\b\b\b  64%\b\b\b\b\b  66%\b\b\b\b\b  68%\b\b\b\b\b  70%\b\b\b\b\b  72%\b\b\b\b\b  74%\b\b\b\b\b  76%\b\b\b\b\b  78%\b\b\b\b\b  80%\b\b\b\b\b  82%\b\b\b\b\b  84%\b\b\b\b\b  86%\b\b\b\b\b  88%\b\b\b\b\b  90%\b\b\b\b\b  92%\b\b\b\b\b  94%\b\b\b\b\b  96%\b\b\b\b\b  98%\b\b\b\b\b 100%\b\b\b\b\b\n",
            "-----------------------------------------------------\n",
            "Finding centroids for OGR layer <gadm41_ARE_0>...\n",
            "   0%\b\b\b\b\b 100%\b\b\b\b\b\n",
            "-----------------------------------------------------\n",
            "Writing centroids...\n",
            "   2%\b\b\b\b\b   5%\b\b\b\b\b   8%\b\b\b\b\b  11%\b\b\b\b\b  14%\b\b\b\b\b  17%\b\b\b\b\b  20%\b\b\b\b\b  23%\b\b\b\b\b  26%\b\b\b\b\b  29%\b\b\b\b\b  32%\b\b\b\b\b  35%\b\b\b\b\b  38%\b\b\b\b\b  41%\b\b\b\b\b  44%\b\b\b\b\b  47%\b\b\b\b\b  50%\b\b\b\b\b  53%\b\b\b\b\b  56%\b\b\b\b\b  59%\b\b\b\b\b  62%\b\b\b\b\b  65%\b\b\b\b\b  68%\b\b\b\b\b  71%\b\b\b\b\b  74%\b\b\b\b\b  77%\b\b\b\b\b  80%\b\b\b\b\b  83%\b\b\b\b\b  86%\b\b\b\b\b  89%\b\b\b\b\b  92%\b\b\b\b\b  95%\b\b\b\b\b  98%\b\b\b\b\b 100%\b\b\b\b\b\n",
            "-----------------------------------------------------\n",
            "317 input polygons\n",
            "Total area: 7.11743E+10 (318 areas)\n",
            "Area without category: 7.77829E+07 (1 areas)\n",
            "-----------------------------------------------------\n",
            "Copying features...\n",
            "   2%\b\b\b\b\b   5%\b\b\b\b\b   8%\b\b\b\b\b  11%\b\b\b\b\b  14%\b\b\b\b\b  17%\b\b\b\b\b  20%\b\b\b\b\b  23%\b\b\b\b\b  26%\b\b\b\b\b  29%\b\b\b\b\b  32%\b\b\b\b\b  35%\b\b\b\b\b  38%\b\b\b\b\b  41%\b\b\b\b\b  44%\b\b\b\b\b  47%\b\b\b\b\b  50%\b\b\b\b\b  53%\b\b\b\b\b  56%\b\b\b\b\b  59%\b\b\b\b\b  62%\b\b\b\b\b  65%\b\b\b\b\b  68%\b\b\b\b\b  71%\b\b\b\b\b  74%\b\b\b\b\b  77%\b\b\b\b\b  80%\b\b\b\b\b  83%\b\b\b\b\b  86%\b\b\b\b\b  89%\b\b\b\b\b  92%\b\b\b\b\b  95%\b\b\b\b\b  98%\b\b\b\b\b 100%\b\b\b\b\b\n",
            "Building topology for vector map <uae_bdry@RF_Dubai_new>...\n",
            "Registering primitives...\n",
            "Building areas...\n",
            "   0%\b\b\b\b\b   2%\b\b\b\b\b   4%\b\b\b\b\b   6%\b\b\b\b\b   8%\b\b\b\b\b  10%\b\b\b\b\b  12%\b\b\b\b\b  14%\b\b\b\b\b  16%\b\b\b\b\b  18%\b\b\b\b\b  20%\b\b\b\b\b  22%\b\b\b\b\b  24%\b\b\b\b\b  26%\b\b\b\b\b  28%\b\b\b\b\b  30%\b\b\b\b\b  32%\b\b\b\b\b  34%\b\b\b\b\b  36%\b\b\b\b\b  38%\b\b\b\b\b  40%\b\b\b\b\b  42%\b\b\b\b\b  44%\b\b\b\b\b  46%\b\b\b\b\b  48%\b\b\b\b\b  50%\b\b\b\b\b  52%\b\b\b\b\b  54%\b\b\b\b\b  56%\b\b\b\b\b  58%\b\b\b\b\b  60%\b\b\b\b\b  62%\b\b\b\b\b  64%\b\b\b\b\b  66%\b\b\b\b\b  68%\b\b\b\b\b  70%\b\b\b\b\b  72%\b\b\b\b\b  74%\b\b\b\b\b  76%\b\b\b\b\b  78%\b\b\b\b\b  80%\b\b\b\b\b  82%\b\b\b\b\b  84%\b\b\b\b\b  86%\b\b\b\b\b  88%\b\b\b\b\b  90%\b\b\b\b\b  92%\b\b\b\b\b  94%\b\b\b\b\b  96%\b\b\b\b\b  98%\b\b\b\b\b 100%\b\b\b\b\b\n",
            "Attaching islands...\n",
            "   0%\b\b\b\b\b   2%\b\b\b\b\b   4%\b\b\b\b\b   6%\b\b\b\b\b   8%\b\b\b\b\b  10%\b\b\b\b\b  12%\b\b\b\b\b  14%\b\b\b\b\b  16%\b\b\b\b\b  18%\b\b\b\b\b  20%\b\b\b\b\b  22%\b\b\b\b\b  24%\b\b\b\b\b  26%\b\b\b\b\b  28%\b\b\b\b\b  30%\b\b\b\b\b  32%\b\b\b\b\b  34%\b\b\b\b\b  36%\b\b\b\b\b  38%\b\b\b\b\b  40%\b\b\b\b\b  42%\b\b\b\b\b  44%\b\b\b\b\b  46%\b\b\b\b\b  48%\b\b\b\b\b  50%\b\b\b\b\b  52%\b\b\b\b\b  54%\b\b\b\b\b  56%\b\b\b\b\b  58%\b\b\b\b\b  60%\b\b\b\b\b  62%\b\b\b\b\b  64%\b\b\b\b\b  66%\b\b\b\b\b  68%\b\b\b\b\b  70%\b\b\b\b\b  72%\b\b\b\b\b  74%\b\b\b\b\b  76%\b\b\b\b\b  78%\b\b\b\b\b  80%\b\b\b\b\b  82%\b\b\b\b\b  84%\b\b\b\b\b  86%\b\b\b\b\b  88%\b\b\b\b\b  90%\b\b\b\b\b  92%\b\b\b\b\b  94%\b\b\b\b\b  96%\b\b\b\b\b  98%\b\b\b\b\b 100%\b\b\b\b\b\n",
            "Attaching centroids...\n",
            "   0%\b\b\b\b\b   2%\b\b\b\b\b   4%\b\b\b\b\b   6%\b\b\b\b\b   8%\b\b\b\b\b  10%\b\b\b\b\b  12%\b\b\b\b\b  14%\b\b\b\b\b  16%\b\b\b\b\b  18%\b\b\b\b\b  20%\b\b\b\b\b  22%\b\b\b\b\b  24%\b\b\b\b\b  26%\b\b\b\b\b  28%\b\b\b\b\b  30%\b\b\b\b\b  32%\b\b\b\b\b  34%\b\b\b\b\b  36%\b\b\b\b\b  38%\b\b\b\b\b  40%\b\b\b\b\b  42%\b\b\b\b\b  44%\b\b\b\b\b  46%\b\b\b\b\b  48%\b\b\b\b\b  50%\b\b\b\b\b  52%\b\b\b\b\b  54%\b\b\b\b\b  56%\b\b\b\b\b  58%\b\b\b\b\b  60%\b\b\b\b\b  62%\b\b\b\b\b  64%\b\b\b\b\b  66%\b\b\b\b\b  68%\b\b\b\b\b  70%\b\b\b\b\b  72%\b\b\b\b\b  74%\b\b\b\b\b  76%\b\b\b\b\b  78%\b\b\b\b\b  80%\b\b\b\b\b  82%\b\b\b\b\b  84%\b\b\b\b\b  86%\b\b\b\b\b  88%\b\b\b\b\b  90%\b\b\b\b\b  92%\b\b\b\b\b  94%\b\b\b\b\b  96%\b\b\b\b\b  98%\b\b\b\b\b 100%\b\b\b\b\b\n"
          ]
        }
      ]
    },
    {
      "cell_type": "code",
      "source": [
        "!/usr/bin/grass /content/grassdata/latlong/RF_Dubai_new/ --exec v.in.ogr in='/content/RF_data/ncm_stations.shp' out=rf_stations"
      ],
      "metadata": {
        "colab": {
          "base_uri": "https://localhost:8080/"
        },
        "id": "yGpZGJtkXm8w",
        "outputId": "a84880e8-5aa1-4fb7-de22-43e8a5228dd4"
      },
      "execution_count": 25,
      "outputs": [
        {
          "output_type": "stream",
          "name": "stdout",
          "text": [
            "Check if OGR layer <ncm_stations> contains polygons...\n",
            "   0%\b\b\b\b\b   2%\b\b\b\b\b   4%\b\b\b\b\b   6%\b\b\b\b\b   8%\b\b\b\b\b  11%\b\b\b\b\b  13%\b\b\b\b\b  16%\b\b\b\b\b  18%\b\b\b\b\b  20%\b\b\b\b\b  22%\b\b\b\b\b  24%\b\b\b\b\b  27%\b\b\b\b\b  29%\b\b\b\b\b  32%\b\b\b\b\b  34%\b\b\b\b\b  37%\b\b\b\b\b  39%\b\b\b\b\b  41%\b\b\b\b\b  43%\b\b\b\b\b  45%\b\b\b\b\b  48%\b\b\b\b\b  50%\b\b\b\b\b  53%\b\b\b\b\b  55%\b\b\b\b\b  58%\b\b\b\b\b  60%\b\b\b\b\b  62%\b\b\b\b\b  64%\b\b\b\b\b  66%\b\b\b\b\b  69%\b\b\b\b\b  71%\b\b\b\b\b  74%\b\b\b\b\b  76%\b\b\b\b\b  79%\b\b\b\b\b  81%\b\b\b\b\b  83%\b\b\b\b\b  85%\b\b\b\b\b  87%\b\b\b\b\b  90%\b\b\b\b\b  92%\b\b\b\b\b  95%\b\b\b\b\b  97%\b\b\b\b\b 100%\b\b\b\b\b\n",
            "Creating attribute table for layer <ncm_stations>...\n",
            "Column name <NCM ID> renamed to <NCM_ID>\n",
            "Importing 81 features (OGR layer <ncm_stations>)...\n",
            "   0%\b\b\b\b\b   2%\b\b\b\b\b   4%\b\b\b\b\b   6%\b\b\b\b\b   8%\b\b\b\b\b  11%\b\b\b\b\b  13%\b\b\b\b\b  16%\b\b\b\b\b  18%\b\b\b\b\b  20%\b\b\b\b\b  22%\b\b\b\b\b  24%\b\b\b\b\b  27%\b\b\b\b\b  29%\b\b\b\b\b  32%\b\b\b\b\b  34%\b\b\b\b\b  37%\b\b\b\b\b  39%\b\b\b\b\b  41%\b\b\b\b\b  43%\b\b\b\b\b  45%\b\b\b\b\b  48%\b\b\b\b\b  50%\b\b\b\b\b  53%\b\b\b\b\b  55%\b\b\b\b\b  58%\b\b\b\b\b  60%\b\b\b\b\b  62%\b\b\b\b\b  64%\b\b\b\b\b  66%\b\b\b\b\b  69%\b\b\b\b\b  71%\b\b\b\b\b  74%\b\b\b\b\b  76%\b\b\b\b\b  79%\b\b\b\b\b  81%\b\b\b\b\b  83%\b\b\b\b\b  85%\b\b\b\b\b  87%\b\b\b\b\b  90%\b\b\b\b\b  92%\b\b\b\b\b  95%\b\b\b\b\b  97%\b\b\b\b\b 100%\b\b\b\b\b\n",
            "-----------------------------------------------------\n",
            "Building topology for vector map <rf_stations@RF_Dubai_new>...\n",
            "Registering primitives...\n",
            "\r"
          ]
        }
      ]
    },
    {
      "cell_type": "code",
      "source": [
        "!/usr/bin/grass /content/grassdata/latlong/RF_Dubai_new/ --exec g.list type='vect' |cat"
      ],
      "metadata": {
        "colab": {
          "base_uri": "https://localhost:8080/"
        },
        "id": "FSHl1P7bXu4X",
        "outputId": "43ac4800-2e45-4588-f734-07ff3d0a0aa2"
      },
      "execution_count": 5,
      "outputs": [
        {
          "output_type": "stream",
          "name": "stdout",
          "text": [
            "rf_stations\n",
            "uae_bdry\n"
          ]
        }
      ]
    },
    {
      "cell_type": "code",
      "source": [
        "!/usr/bin/grass /content/grassdata/latlong/RF_Dubai_new/ --exec g.region vect=uae_bdry res=0.01 -pg"
      ],
      "metadata": {
        "colab": {
          "base_uri": "https://localhost:8080/"
        },
        "id": "u51jbPg0YtM_",
        "outputId": "bf58a4d7-51d5-4e36-9da3-bbe9ba7d5c97"
      },
      "execution_count": 6,
      "outputs": [
        {
          "output_type": "stream",
          "name": "stdout",
          "text": [
            "projection=3\n",
            "zone=0\n",
            "n=26.0693264000001\n",
            "s=22.631621401\n",
            "w=51.4979780000002\n",
            "e=56.3811607370001\n",
            "nsres=0.0099933284854653\n",
            "ewres=0.0100065220020491\n",
            "rows=344\n",
            "cols=488\n",
            "cells=167872\n"
          ]
        }
      ]
    },
    {
      "cell_type": "code",
      "source": [
        "!/usr/bin/grass /content/grassdata/latlong/RF_Dubai_new/ --exec r.mask vect=uae_bdry"
      ],
      "metadata": {
        "colab": {
          "base_uri": "https://localhost:8080/"
        },
        "id": "sQi6Bg8zY-2I",
        "outputId": "6fa40cb6-bf81-4e6f-e986-b8e79e5a6155"
      },
      "execution_count": 7,
      "outputs": [
        {
          "output_type": "stream",
          "name": "stdout",
          "text": [
            "Reading areas...\n",
            "   0%\b\b\b\b\b   3%\b\b\b\b\b   6%\b\b\b\b\b   9%\b\b\b\b\b  12%\b\b\b\b\b  15%\b\b\b\b\b  18%\b\b\b\b\b  21%\b\b\b\b\b  24%\b\b\b\b\b  27%\b\b\b\b\b  30%\b\b\b\b\b  33%\b\b\b\b\b  36%\b\b\b\b\b  39%\b\b\b\b\b  42%\b\b\b\b\b  45%\b\b\b\b\b  48%\b\b\b\b\b  51%\b\b\b\b\b  54%\b\b\b\b\b  57%\b\b\b\b\b  60%\b\b\b\b\b  63%\b\b\b\b\b  66%\b\b\b\b\b  69%\b\b\b\b\b  72%\b\b\b\b\b  75%\b\b\b\b\b  78%\b\b\b\b\b  81%\b\b\b\b\b  84%\b\b\b\b\b  87%\b\b\b\b\b  90%\b\b\b\b\b  93%\b\b\b\b\b  96%\b\b\b\b\b  99%\b\b\b\b\b 100%\b\b\b\b\b\n",
            "Writing raster map...\n",
            "   0%\b\b\b\b\b   3%\b\b\b\b\b   6%\b\b\b\b\b   9%\b\b\b\b\b  12%\b\b\b\b\b  15%\b\b\b\b\b  18%\b\b\b\b\b  21%\b\b\b\b\b  24%\b\b\b\b\b  27%\b\b\b\b\b  30%\b\b\b\b\b  33%\b\b\b\b\b  36%\b\b\b\b\b  39%\b\b\b\b\b  42%\b\b\b\b\b  45%\b\b\b\b\b  48%\b\b\b\b\b  51%\b\b\b\b\b  54%\b\b\b\b\b  57%\b\b\b\b\b  60%\b\b\b\b\b  63%\b\b\b\b\b  66%\b\b\b\b\b  69%\b\b\b\b\b  72%\b\b\b\b\b  75%\b\b\b\b\b  78%\b\b\b\b\b  81%\b\b\b\b\b  84%\b\b\b\b\b  87%\b\b\b\b\b  90%\b\b\b\b\b  93%\b\b\b\b\b  96%\b\b\b\b\b  99%\b\b\b\b\b 100%\b\b\b\b\b\n",
            "All subsequent raster operations will be limited to the MASK area. Removing\n",
            "or renaming raster map named 'MASK' will restore raster operations to\n",
            "normal.\n"
          ]
        }
      ]
    },
    {
      "cell_type": "code",
      "source": [
        "!/usr/bin/grass /content/grassdata/latlong/RF_Dubai_new/ --exec v.db.select rf_stations|head -5"
      ],
      "metadata": {
        "colab": {
          "base_uri": "https://localhost:8080/"
        },
        "id": "EGELR_I5ZLRj",
        "outputId": "a95da851-d39d-42f7-95b3-9a90f5ac1dca"
      },
      "execution_count": 8,
      "outputs": [
        {
          "output_type": "stream",
          "name": "stdout",
          "text": [
            "cat|Lon|Lat|Name|NCM_ID|RF_april_1\n",
            "1|55.13333333|22.7|Um Azimul|16|13.4\n",
            "2|54.81666667|22.81666667|Gasyoura|137|47.2\n",
            "3|54.3|22.96666667|Hamim|17|43.9\n",
            "4|53.83333333|23.11666667|Mezaira|114|85.8\n"
          ]
        }
      ]
    },
    {
      "cell_type": "code",
      "source": [
        "!/usr/bin/grass /content/grassdata/latlong/RF_Dubai_new/ --exec v.surf.idw input=rf_stations column=RF_april_1 output=rf_interpolated_idw"
      ],
      "metadata": {
        "colab": {
          "base_uri": "https://localhost:8080/"
        },
        "id": "BmgePB9iZYvM",
        "outputId": "d367de8c-c916-4004-986d-6e0c5468d86d"
      },
      "execution_count": 9,
      "outputs": [
        {
          "output_type": "stream",
          "name": "stdout",
          "text": [
            "81 points loaded\n",
            "Interpolating raster map <rf_interpolated_idw> (344 rows, 488 columns)...\n",
            "   0%\b\b\b\b\b   2%\b\b\b\b\b   4%\b\b\b\b\b   6%\b\b\b\b\b   8%\b\b\b\b\b  10%\b\b\b\b\b  12%\b\b\b\b\b  14%\b\b\b\b\b  16%\b\b\b\b\b  18%\b\b\b\b\b  20%\b\b\b\b\b  22%\b\b\b\b\b  24%\b\b\b\b\b  26%\b\b\b\b\b  28%\b\b\b\b\b  30%\b\b\b\b\b  32%\b\b\b\b\b  34%\b\b\b\b\b  36%\b\b\b\b\b  38%\b\b\b\b\b  40%\b\b\b\b\b  42%\b\b\b\b\b  44%\b\b\b\b\b  46%\b\b\b\b\b  48%\b\b\b\b\b  50%\b\b\b\b\b  52%\b\b\b\b\b  54%\b\b\b\b\b  56%\b\b\b\b\b  58%\b\b\b\b\b  60%\b\b\b\b\b  62%\b\b\b\b\b  64%\b\b\b\b\b  66%\b\b\b\b\b  68%\b\b\b\b\b  70%\b\b\b\b\b  72%\b\b\b\b\b  74%\b\b\b\b\b  76%\b\b\b\b\b  78%\b\b\b\b\b  80%\b\b\b\b\b  82%\b\b\b\b\b  84%\b\b\b\b\b  86%\b\b\b\b\b  88%\b\b\b\b\b  90%\b\b\b\b\b  92%\b\b\b\b\b  94%\b\b\b\b\b  96%\b\b\b\b\b  98%\b\b\b\b\b 100%\b\b\b\b\b\n",
            "v.surf.idw complete.\n"
          ]
        }
      ]
    },
    {
      "cell_type": "code",
      "source": [
        "!/usr/bin/grass /content/grassdata/latlong/RF_Dubai_new/ --exec r.out.gdal input=rf_interpolated_idw output=/content/RF_data/rf_interpolated_idw.tif"
      ],
      "metadata": {
        "colab": {
          "base_uri": "https://localhost:8080/"
        },
        "id": "FhX29xyZZ5CJ",
        "outputId": "3cae9407-8578-43b6-f125-84b601b2bebb"
      },
      "execution_count": 10,
      "outputs": [
        {
          "output_type": "stream",
          "name": "stdout",
          "text": [
            "Checking GDAL data type and nodata value...\n",
            "   2%\b\b\b\b\b   5%\b\b\b\b\b   8%\b\b\b\b\b  11%\b\b\b\b\b  14%\b\b\b\b\b  17%\b\b\b\b\b  20%\b\b\b\b\b  23%\b\b\b\b\b  26%\b\b\b\b\b  29%\b\b\b\b\b  32%\b\b\b\b\b  35%\b\b\b\b\b  38%\b\b\b\b\b  41%\b\b\b\b\b  44%\b\b\b\b\b  47%\b\b\b\b\b  50%\b\b\b\b\b  53%\b\b\b\b\b  56%\b\b\b\b\b  59%\b\b\b\b\b  62%\b\b\b\b\b  65%\b\b\b\b\b  68%\b\b\b\b\b  71%\b\b\b\b\b  74%\b\b\b\b\b  77%\b\b\b\b\b  80%\b\b\b\b\b  83%\b\b\b\b\b  86%\b\b\b\b\b  89%\b\b\b\b\b  92%\b\b\b\b\b  95%\b\b\b\b\b  98%\b\b\b\b\b 100%\b\b\b\b\b\n",
            "Using GDAL data type <Float64>\n",
            "Input raster map contains cells with NULL-value (no-data). The value nan\n",
            "will be used to represent no-data values in the input map. You can specify\n",
            "a nodata value with the nodata option.\n",
            "Exporting raster data to GTiff format...\n",
            "ERROR 6: /content/RF_data/rf_interpolated_idw.tif, band 1: SetColorTable() only supported for Byte or UInt16 bands in TIFF format.\n",
            "   2%\b\b\b\b\b   5%\b\b\b\b\b   8%\b\b\b\b\b  11%\b\b\b\b\b  14%\b\b\b\b\b  17%\b\b\b\b\b  20%\b\b\b\b\b  23%\b\b\b\b\b  26%\b\b\b\b\b  29%\b\b\b\b\b  32%\b\b\b\b\b  35%\b\b\b\b\b  38%\b\b\b\b\b  41%\b\b\b\b\b  44%\b\b\b\b\b  47%\b\b\b\b\b  50%\b\b\b\b\b  53%\b\b\b\b\b  56%\b\b\b\b\b  59%\b\b\b\b\b  62%\b\b\b\b\b  65%\b\b\b\b\b  68%\b\b\b\b\b  71%\b\b\b\b\b  74%\b\b\b\b\b  77%\b\b\b\b\b  80%\b\b\b\b\b  83%\b\b\b\b\b  86%\b\b\b\b\b  89%\b\b\b\b\b  92%\b\b\b\b\b  95%\b\b\b\b\b  98%\b\b\b\b\b 100%\b\b\b\b\b\n",
            "r.out.gdal complete. File </content/RF_data/rf_interpolated_idw.tif>\n",
            "created.\n"
          ]
        }
      ]
    }
  ]
}
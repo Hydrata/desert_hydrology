{
 "cells": [
  {
   "metadata": {},
   "cell_type": "markdown",
   "source": "# Setup",
   "id": "45618eab860ee4d1"
  },
  {
   "metadata": {
    "ExecuteTime": {
     "end_time": "2024-07-26T05:58:34.672888Z",
     "start_time": "2024-07-26T05:58:34.668446Z"
    }
   },
   "cell_type": "code",
   "source": [
    "import pandas as pd\n",
    "import matplotlib.pyplot as plt"
   ],
   "id": "290337be3fb59a1",
   "outputs": [],
   "execution_count": 140
  },
  {
   "metadata": {},
   "cell_type": "markdown",
   "source": "# Determine the Temporal Pattern at each rain guage",
   "id": "71f1045867bc0fbc"
  },
  {
   "metadata": {},
   "cell_type": "markdown",
   "source": "Each rain guage will experience a different temporal pattern, as the rainfall moves accross the city. We can determine the shape of this pattern by looking at the hourly rainfall recorded by the [GSMaP data](https://sharaku.eorc.jaxa.jp/GSMaP/) provided by Japan Aerospace Exploration Agency (JAXA). This data has been downloaded for each of the rainguages.\n",
   "id": "e84f0481a54b2350"
  },
  {
   "metadata": {
    "ExecuteTime": {
     "end_time": "2024-07-26T05:58:36.568567Z",
     "start_time": "2024-07-26T05:58:36.552415Z"
    }
   },
   "cell_type": "code",
   "source": [
    "skip_header_rows = list(range(1, 6))\n",
    "satelitte_df = pd.read_csv('./gsmap_rainfall.csv', index_col=0, skiprows=skip_header_rows, header=0)\n",
    "satelitte_df.index = pd.to_datetime(satelitte_df.index)\n",
    "satelitte_df.head()"
   ],
   "id": "9546b8681a4fb136",
   "outputs": [
    {
     "data": {
      "text/plain": [
       "                     Um Azimul  Gasyoura  Hamim  Mezaira  Mukhariz  \\\n",
       "name                                                                 \n",
       "2024-04-14 00:00:00     0.0000    0.0389    0.0   0.0000       0.0   \n",
       "2024-04-14 01:00:00     0.0462    0.0791    0.0   1.6735       0.0   \n",
       "2024-04-14 02:00:00     0.1150    0.0000    0.0   0.0000       0.0   \n",
       "2024-04-14 03:00:00     0.0000    0.0000    0.0   0.0000       0.0   \n",
       "2024-04-14 04:00:00     0.0000    0.0000    0.0   0.0000       0.0   \n",
       "\n",
       "                     Al Jazeera b.g  Owtaid  Bada Dafas  Madinat Zayed  \\\n",
       "name                                                                     \n",
       "2024-04-14 00:00:00             0.0     0.0         0.0            0.0   \n",
       "2024-04-14 01:00:00             0.0     0.0         0.0            0.0   \n",
       "2024-04-14 02:00:00             0.0     0.0         0.0            0.0   \n",
       "2024-04-14 03:00:00             0.0     0.0         0.0            0.0   \n",
       "2024-04-14 04:00:00             0.0     0.0         0.0            0.0   \n",
       "\n",
       "                     Bu Humrah  ...  Al Qattara  Raknah  Buraimi  Um ghafa  \\\n",
       "name                            ...                                          \n",
       "2024-04-14 00:00:00     0.0568  ...         0.0     0.0   0.0164    0.1317   \n",
       "2024-04-14 01:00:00     0.6274  ...         0.0     0.0   0.0000    0.2993   \n",
       "2024-04-14 02:00:00     0.0000  ...         0.0     0.0   0.0000    0.0000   \n",
       "2024-04-14 03:00:00     0.0000  ...         0.0     0.0   0.0000    0.0000   \n",
       "2024-04-14 04:00:00     0.0000  ...         0.0     0.0   0.0000    0.0000   \n",
       "\n",
       "                     Mezyed  Al Khazna  Al Arad  Al Shuaibah  Hafeet mountain  \\\n",
       "name                                                                            \n",
       "2024-04-14 00:00:00  0.0644        0.0   0.0145       0.0496           0.3047   \n",
       "2024-04-14 01:00:00  0.2589        0.0   0.7846       0.0000           0.2159   \n",
       "2024-04-14 02:00:00  0.0000        0.0   0.8540       0.0000           0.0000   \n",
       "2024-04-14 03:00:00  0.0000        0.0   0.0000       0.0000           0.0000   \n",
       "2024-04-14 04:00:00  0.0000        0.0   0.0000       0.0000           0.0000   \n",
       "\n",
       "                     Barakah 2  \n",
       "name                            \n",
       "2024-04-14 00:00:00        0.0  \n",
       "2024-04-14 01:00:00        0.0  \n",
       "2024-04-14 02:00:00        0.0  \n",
       "2024-04-14 03:00:00        0.0  \n",
       "2024-04-14 04:00:00        0.0  \n",
       "\n",
       "[5 rows x 81 columns]"
      ],
      "text/html": [
       "<div>\n",
       "<style scoped>\n",
       "    .dataframe tbody tr th:only-of-type {\n",
       "        vertical-align: middle;\n",
       "    }\n",
       "\n",
       "    .dataframe tbody tr th {\n",
       "        vertical-align: top;\n",
       "    }\n",
       "\n",
       "    .dataframe thead th {\n",
       "        text-align: right;\n",
       "    }\n",
       "</style>\n",
       "<table border=\"1\" class=\"dataframe\">\n",
       "  <thead>\n",
       "    <tr style=\"text-align: right;\">\n",
       "      <th></th>\n",
       "      <th>Um Azimul</th>\n",
       "      <th>Gasyoura</th>\n",
       "      <th>Hamim</th>\n",
       "      <th>Mezaira</th>\n",
       "      <th>Mukhariz</th>\n",
       "      <th>Al Jazeera b.g</th>\n",
       "      <th>Owtaid</th>\n",
       "      <th>Bada Dafas</th>\n",
       "      <th>Madinat Zayed</th>\n",
       "      <th>Bu Humrah</th>\n",
       "      <th>...</th>\n",
       "      <th>Al Qattara</th>\n",
       "      <th>Raknah</th>\n",
       "      <th>Buraimi</th>\n",
       "      <th>Um ghafa</th>\n",
       "      <th>Mezyed</th>\n",
       "      <th>Al Khazna</th>\n",
       "      <th>Al Arad</th>\n",
       "      <th>Al Shuaibah</th>\n",
       "      <th>Hafeet mountain</th>\n",
       "      <th>Barakah 2</th>\n",
       "    </tr>\n",
       "    <tr>\n",
       "      <th>name</th>\n",
       "      <th></th>\n",
       "      <th></th>\n",
       "      <th></th>\n",
       "      <th></th>\n",
       "      <th></th>\n",
       "      <th></th>\n",
       "      <th></th>\n",
       "      <th></th>\n",
       "      <th></th>\n",
       "      <th></th>\n",
       "      <th></th>\n",
       "      <th></th>\n",
       "      <th></th>\n",
       "      <th></th>\n",
       "      <th></th>\n",
       "      <th></th>\n",
       "      <th></th>\n",
       "      <th></th>\n",
       "      <th></th>\n",
       "      <th></th>\n",
       "      <th></th>\n",
       "    </tr>\n",
       "  </thead>\n",
       "  <tbody>\n",
       "    <tr>\n",
       "      <th>2024-04-14 00:00:00</th>\n",
       "      <td>0.0000</td>\n",
       "      <td>0.0389</td>\n",
       "      <td>0.0</td>\n",
       "      <td>0.0000</td>\n",
       "      <td>0.0</td>\n",
       "      <td>0.0</td>\n",
       "      <td>0.0</td>\n",
       "      <td>0.0</td>\n",
       "      <td>0.0</td>\n",
       "      <td>0.0568</td>\n",
       "      <td>...</td>\n",
       "      <td>0.0</td>\n",
       "      <td>0.0</td>\n",
       "      <td>0.0164</td>\n",
       "      <td>0.1317</td>\n",
       "      <td>0.0644</td>\n",
       "      <td>0.0</td>\n",
       "      <td>0.0145</td>\n",
       "      <td>0.0496</td>\n",
       "      <td>0.3047</td>\n",
       "      <td>0.0</td>\n",
       "    </tr>\n",
       "    <tr>\n",
       "      <th>2024-04-14 01:00:00</th>\n",
       "      <td>0.0462</td>\n",
       "      <td>0.0791</td>\n",
       "      <td>0.0</td>\n",
       "      <td>1.6735</td>\n",
       "      <td>0.0</td>\n",
       "      <td>0.0</td>\n",
       "      <td>0.0</td>\n",
       "      <td>0.0</td>\n",
       "      <td>0.0</td>\n",
       "      <td>0.6274</td>\n",
       "      <td>...</td>\n",
       "      <td>0.0</td>\n",
       "      <td>0.0</td>\n",
       "      <td>0.0000</td>\n",
       "      <td>0.2993</td>\n",
       "      <td>0.2589</td>\n",
       "      <td>0.0</td>\n",
       "      <td>0.7846</td>\n",
       "      <td>0.0000</td>\n",
       "      <td>0.2159</td>\n",
       "      <td>0.0</td>\n",
       "    </tr>\n",
       "    <tr>\n",
       "      <th>2024-04-14 02:00:00</th>\n",
       "      <td>0.1150</td>\n",
       "      <td>0.0000</td>\n",
       "      <td>0.0</td>\n",
       "      <td>0.0000</td>\n",
       "      <td>0.0</td>\n",
       "      <td>0.0</td>\n",
       "      <td>0.0</td>\n",
       "      <td>0.0</td>\n",
       "      <td>0.0</td>\n",
       "      <td>0.0000</td>\n",
       "      <td>...</td>\n",
       "      <td>0.0</td>\n",
       "      <td>0.0</td>\n",
       "      <td>0.0000</td>\n",
       "      <td>0.0000</td>\n",
       "      <td>0.0000</td>\n",
       "      <td>0.0</td>\n",
       "      <td>0.8540</td>\n",
       "      <td>0.0000</td>\n",
       "      <td>0.0000</td>\n",
       "      <td>0.0</td>\n",
       "    </tr>\n",
       "    <tr>\n",
       "      <th>2024-04-14 03:00:00</th>\n",
       "      <td>0.0000</td>\n",
       "      <td>0.0000</td>\n",
       "      <td>0.0</td>\n",
       "      <td>0.0000</td>\n",
       "      <td>0.0</td>\n",
       "      <td>0.0</td>\n",
       "      <td>0.0</td>\n",
       "      <td>0.0</td>\n",
       "      <td>0.0</td>\n",
       "      <td>0.0000</td>\n",
       "      <td>...</td>\n",
       "      <td>0.0</td>\n",
       "      <td>0.0</td>\n",
       "      <td>0.0000</td>\n",
       "      <td>0.0000</td>\n",
       "      <td>0.0000</td>\n",
       "      <td>0.0</td>\n",
       "      <td>0.0000</td>\n",
       "      <td>0.0000</td>\n",
       "      <td>0.0000</td>\n",
       "      <td>0.0</td>\n",
       "    </tr>\n",
       "    <tr>\n",
       "      <th>2024-04-14 04:00:00</th>\n",
       "      <td>0.0000</td>\n",
       "      <td>0.0000</td>\n",
       "      <td>0.0</td>\n",
       "      <td>0.0000</td>\n",
       "      <td>0.0</td>\n",
       "      <td>0.0</td>\n",
       "      <td>0.0</td>\n",
       "      <td>0.0</td>\n",
       "      <td>0.0</td>\n",
       "      <td>0.0000</td>\n",
       "      <td>...</td>\n",
       "      <td>0.0</td>\n",
       "      <td>0.0</td>\n",
       "      <td>0.0000</td>\n",
       "      <td>0.0000</td>\n",
       "      <td>0.0000</td>\n",
       "      <td>0.0</td>\n",
       "      <td>0.0000</td>\n",
       "      <td>0.0000</td>\n",
       "      <td>0.0000</td>\n",
       "      <td>0.0</td>\n",
       "    </tr>\n",
       "  </tbody>\n",
       "</table>\n",
       "<p>5 rows × 81 columns</p>\n",
       "</div>"
      ]
     },
     "execution_count": 141,
     "metadata": {},
     "output_type": "execute_result"
    }
   ],
   "execution_count": 141
  },
  {
   "metadata": {
    "ExecuteTime": {
     "end_time": "2024-07-26T05:58:40.212392Z",
     "start_time": "2024-07-26T05:58:38.344274Z"
    }
   },
   "cell_type": "code",
   "source": [
    "plt.figure()\n",
    "fig, ax = plt.subplots(figsize=(20, 8))\n",
    "ax.set_title('UAE Hyetographs')\n",
    "ax.set_xlabel('Datetime')\n",
    "ax.set_ylabel('Rainfall (mm/hr)')\n",
    "\n",
    "start_datetime = '2024-04-15 06:00:00'\n",
    "end_datetime = '2024-04-16 23:00:00'\n",
    "location_names_to_plot = satelitte_df.columns\n",
    "\n",
    "df_time_window = satelitte_df.loc[start_datetime:end_datetime]\n",
    "df_time_window.plot(kind='bar', ax=ax, width=0.8)\n",
    "\n",
    "legend_labels = satelitte_df.columns[:5]\n",
    "plt.legend(legend_labels)\n",
    "plt.show()\n"
   ],
   "id": "886635d3e12b2d96",
   "outputs": [
    {
     "data": {
      "text/plain": [
       "<Figure size 640x480 with 0 Axes>"
      ]
     },
     "metadata": {},
     "output_type": "display_data"
    },
    {
     "data": {
      "text/plain": [
       "<Figure size 2000x800 with 1 Axes>"
      ],
      "image/png": "[encoded data removed]"
     },
     "metadata": {},
     "output_type": "display_data"
    }
   ],
   "execution_count": 142
  },
  {
   "metadata": {},
   "cell_type": "markdown",
   "source": [
    "# Adjust the satellite data to match the ground-based raingauge data.\n",
    "\n",
    "Now we have two independent data sources at each rainguage:\n",
    "1. The total cumulative rainfall measured at each rainguage (sourced from the UAE NCM)\n",
    "2. The estimated rainfall timeseries from the GSMaP data. This is less reliable for the volume of rainfall, but has an hourly temporal resolution. \n",
    "\n",
    "First we compare the ground-based volume with the satellite-based volume, and determine a calibration ratio that should be applied to the satellite time-series data to ensure it now matches the ground-based volume."
   ],
   "id": "8d03d806f31679cb"
  },
  {
   "metadata": {},
   "cell_type": "markdown",
   "source": "",
   "id": "d2c7bf7074d50ad8"
  },
  {
   "metadata": {
    "ExecuteTime": {
     "end_time": "2024-07-26T05:58:45.474688Z",
     "start_time": "2024-07-26T05:58:45.471158Z"
    }
   },
   "cell_type": "code",
   "source": [
    "cumulative_satellite_rainfall = satelitte_df.sum(axis=0)\n",
    "print(cumulative_satellite_rainfall)"
   ],
   "id": "eb10669253b4c466",
   "outputs": [
    {
     "name": "stdout",
     "output_type": "stream",
     "text": [
      "Um Azimul           43.6881\n",
      "Gasyoura            33.0349\n",
      "Hamim               36.5380\n",
      "Mezaira             36.8603\n",
      "Mukhariz            18.6905\n",
      "                     ...   \n",
      "Al Khazna          129.3765\n",
      "Al Arad             93.0785\n",
      "Al Shuaibah        145.9971\n",
      "Hafeet mountain    172.6091\n",
      "Barakah 2          102.1311\n",
      "Length: 81, dtype: float64\n"
     ]
    }
   ],
   "execution_count": 143
  },
  {
   "metadata": {
    "ExecuteTime": {
     "end_time": "2024-07-26T05:59:12.165651Z",
     "start_time": "2024-07-26T05:59:12.155241Z"
    }
   },
   "cell_type": "code",
   "source": [
    "metadata_df = pd.read_csv('./gsmap_rainfall.csv', nrows=4)\n",
    "metadata_df\n",
    "print('...work in progress...')"
   ],
   "id": "b6187b13ca3629b8",
   "outputs": [
    {
     "name": "stdout",
     "output_type": "stream",
     "text": [
      "...work in progress...\n"
     ]
    }
   ],
   "execution_count": 145
  },
  {
   "metadata": {},
   "cell_type": "code",
   "outputs": [],
   "execution_count": null,
   "source": "",
   "id": "3bf1d668a8962a80"
  }
 ],
 "metadata": {
  "kernelspec": {
   "display_name": "Python 3",
   "language": "python",
   "name": "python3"
  },
  "language_info": {
   "codemirror_mode": {
    "name": "ipython",
    "version": 2
   },
   "file_extension": ".py",
   "mimetype": "text/x-python",
   "name": "python",
   "nbconvert_exporter": "python",
   "pygments_lexer": "ipython2",
   "version": "2.7.6"
  }
 },
 "nbformat": 4,
 "nbformat_minor": 5
}
